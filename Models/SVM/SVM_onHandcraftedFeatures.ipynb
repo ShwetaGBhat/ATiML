{
 "cells": [
  {
   "cell_type": "code",
   "execution_count": 37,
   "metadata": {},
   "outputs": [],
   "source": [
    "import pandas as pd\n",
    "import numpy as np\n",
    "\n",
    "from sklearn.preprocessing import OneHotEncoder\n",
    "from sklearn.model_selection import train_test_split\n",
    "from sklearn import svm\n",
    "from sklearn.model_selection import GridSearchCV\n",
    "from sklearn.model_selection import train_test_split\n",
    "from sklearn.metrics import accuracy_score"
   ]
  },
  {
   "cell_type": "code",
   "execution_count": 38,
   "metadata": {},
   "outputs": [],
   "source": [
    "mergedDF=pd.read_csv(r\"/Users/shwetabhat/Desktop/ATML/ProjectTask/DataPrepAndFeatureExt2/books_ALLFeatures.csv\")"
   ]
  },
  {
   "cell_type": "code",
   "execution_count": 45,
   "metadata": {},
   "outputs": [
    {
     "data": {
      "text/html": [
       "<div>\n",
       "<style scoped>\n",
       "    .dataframe tbody tr th:only-of-type {\n",
       "        vertical-align: middle;\n",
       "    }\n",
       "\n",
       "    .dataframe tbody tr th {\n",
       "        vertical-align: top;\n",
       "    }\n",
       "\n",
       "    .dataframe thead th {\n",
       "        text-align: right;\n",
       "    }\n",
       "</style>\n",
       "<table border=\"1\" class=\"dataframe\">\n",
       "  <thead>\n",
       "    <tr style=\"text-align: right;\">\n",
       "      <th></th>\n",
       "      <th>file</th>\n",
       "      <th>male_count</th>\n",
       "      <th>female_count</th>\n",
       "      <th>para_count</th>\n",
       "      <th>Content</th>\n",
       "      <th>guten_genre</th>\n",
       "      <th>Puch</th>\n",
       "      <th>book_id</th>\n",
       "      <th>Conj-Prep</th>\n",
       "      <th>clean_data</th>\n",
       "      <th>...</th>\n",
       "      <th>Book_Name981</th>\n",
       "      <th>Book_Name982</th>\n",
       "      <th>Book_Name983</th>\n",
       "      <th>Book_Name984</th>\n",
       "      <th>Book_Name985</th>\n",
       "      <th>Book_Name986</th>\n",
       "      <th>Book_Name987</th>\n",
       "      <th>Book_Name988</th>\n",
       "      <th>Book_Name989</th>\n",
       "      <th>Book_Name990</th>\n",
       "    </tr>\n",
       "  </thead>\n",
       "  <tbody>\n",
       "    <tr>\n",
       "      <td>0</td>\n",
       "      <td>pg15895.txt</td>\n",
       "      <td>-0.107486</td>\n",
       "      <td>-0.109654</td>\n",
       "      <td>-0.160190</td>\n",
       "      <td>In the steeple of an old church was a beautifu...</td>\n",
       "      <td>Allegories</td>\n",
       "      <td>0.000283</td>\n",
       "      <td>pg15895.txt</td>\n",
       "      <td>0.100930</td>\n",
       "      <td>steeple church beautiful chime bell many year...</td>\n",
       "      <td>...</td>\n",
       "      <td>0.0</td>\n",
       "      <td>0.0</td>\n",
       "      <td>0.0</td>\n",
       "      <td>0.0</td>\n",
       "      <td>0.0</td>\n",
       "      <td>0.0</td>\n",
       "      <td>0.0</td>\n",
       "      <td>0.0</td>\n",
       "      <td>0.0</td>\n",
       "      <td>0.0</td>\n",
       "    </tr>\n",
       "    <tr>\n",
       "      <td>1</td>\n",
       "      <td>pg33945.txt</td>\n",
       "      <td>-0.001378</td>\n",
       "      <td>-0.023623</td>\n",
       "      <td>-0.020020</td>\n",
       "      <td>A solitary fisher ploughed the lively blue of ...</td>\n",
       "      <td>Allegories</td>\n",
       "      <td>0.000769</td>\n",
       "      <td>pg33945.txt</td>\n",
       "      <td>0.098077</td>\n",
       "      <td>solitary fisher ploughed lively blue southern...</td>\n",
       "      <td>...</td>\n",
       "      <td>0.0</td>\n",
       "      <td>0.0</td>\n",
       "      <td>0.0</td>\n",
       "      <td>0.0</td>\n",
       "      <td>0.0</td>\n",
       "      <td>0.0</td>\n",
       "      <td>0.0</td>\n",
       "      <td>0.0</td>\n",
       "      <td>0.0</td>\n",
       "      <td>0.0</td>\n",
       "    </tr>\n",
       "    <tr>\n",
       "      <td>2</td>\n",
       "      <td>pg1392.txt</td>\n",
       "      <td>-0.127530</td>\n",
       "      <td>-0.164698</td>\n",
       "      <td>-0.228365</td>\n",
       "      <td>Strictly speaking, there were only six Poor Tr...</td>\n",
       "      <td>Christmas Stories</td>\n",
       "      <td>0.000114</td>\n",
       "      <td>pg1392.txt</td>\n",
       "      <td>0.109298</td>\n",
       "      <td>strictly speaking poor traveller traveller th...</td>\n",
       "      <td>...</td>\n",
       "      <td>0.0</td>\n",
       "      <td>0.0</td>\n",
       "      <td>0.0</td>\n",
       "      <td>0.0</td>\n",
       "      <td>0.0</td>\n",
       "      <td>0.0</td>\n",
       "      <td>0.0</td>\n",
       "      <td>0.0</td>\n",
       "      <td>0.0</td>\n",
       "      <td>0.0</td>\n",
       "    </tr>\n",
       "    <tr>\n",
       "      <td>3</td>\n",
       "      <td>pg19337DickensChristCarl.txt</td>\n",
       "      <td>-0.078988</td>\n",
       "      <td>-0.155239</td>\n",
       "      <td>-0.149864</td>\n",
       "      <td>The combined qualities of the realist and the ...</td>\n",
       "      <td>Christmas Stories</td>\n",
       "      <td>0.000422</td>\n",
       "      <td>pg19337DickensChristCarl.txt</td>\n",
       "      <td>0.097503</td>\n",
       "      <td>combined quality realist idealist dickens pos...</td>\n",
       "      <td>...</td>\n",
       "      <td>0.0</td>\n",
       "      <td>0.0</td>\n",
       "      <td>0.0</td>\n",
       "      <td>0.0</td>\n",
       "      <td>0.0</td>\n",
       "      <td>0.0</td>\n",
       "      <td>0.0</td>\n",
       "      <td>0.0</td>\n",
       "      <td>0.0</td>\n",
       "      <td>0.0</td>\n",
       "    </tr>\n",
       "    <tr>\n",
       "      <td>4</td>\n",
       "      <td>pg43190.txt</td>\n",
       "      <td>0.110572</td>\n",
       "      <td>0.174208</td>\n",
       "      <td>0.138396</td>\n",
       "      <td>page 01b In the heart of a very maze of courts...</td>\n",
       "      <td>Christmas Stories</td>\n",
       "      <td>0.002142</td>\n",
       "      <td>pg43190.txt</td>\n",
       "      <td>0.100023</td>\n",
       "      <td>page heart maze court lane proclaims multitud...</td>\n",
       "      <td>...</td>\n",
       "      <td>0.0</td>\n",
       "      <td>0.0</td>\n",
       "      <td>0.0</td>\n",
       "      <td>0.0</td>\n",
       "      <td>0.0</td>\n",
       "      <td>0.0</td>\n",
       "      <td>0.0</td>\n",
       "      <td>0.0</td>\n",
       "      <td>0.0</td>\n",
       "      <td>0.0</td>\n",
       "    </tr>\n",
       "  </tbody>\n",
       "</table>\n",
       "<p>5 rows × 1520 columns</p>\n",
       "</div>"
      ],
      "text/plain": [
       "                           file  male_count  female_count  para_count  \\\n",
       "0                   pg15895.txt   -0.107486     -0.109654   -0.160190   \n",
       "1                   pg33945.txt   -0.001378     -0.023623   -0.020020   \n",
       "2                    pg1392.txt   -0.127530     -0.164698   -0.228365   \n",
       "3  pg19337DickensChristCarl.txt   -0.078988     -0.155239   -0.149864   \n",
       "4                   pg43190.txt    0.110572      0.174208    0.138396   \n",
       "\n",
       "                                             Content        guten_genre  \\\n",
       "0  In the steeple of an old church was a beautifu...         Allegories   \n",
       "1  A solitary fisher ploughed the lively blue of ...         Allegories   \n",
       "2  Strictly speaking, there were only six Poor Tr...  Christmas Stories   \n",
       "3  The combined qualities of the realist and the ...  Christmas Stories   \n",
       "4  page 01b In the heart of a very maze of courts...  Christmas Stories   \n",
       "\n",
       "       Puch                       book_id  Conj-Prep  \\\n",
       "0  0.000283                   pg15895.txt   0.100930   \n",
       "1  0.000769                   pg33945.txt   0.098077   \n",
       "2  0.000114                    pg1392.txt   0.109298   \n",
       "3  0.000422  pg19337DickensChristCarl.txt   0.097503   \n",
       "4  0.002142                   pg43190.txt   0.100023   \n",
       "\n",
       "                                          clean_data  ...  Book_Name981  \\\n",
       "0   steeple church beautiful chime bell many year...  ...           0.0   \n",
       "1   solitary fisher ploughed lively blue southern...  ...           0.0   \n",
       "2   strictly speaking poor traveller traveller th...  ...           0.0   \n",
       "3   combined quality realist idealist dickens pos...  ...           0.0   \n",
       "4   page heart maze court lane proclaims multitud...  ...           0.0   \n",
       "\n",
       "   Book_Name982  Book_Name983  Book_Name984  Book_Name985  Book_Name986  \\\n",
       "0           0.0           0.0           0.0           0.0           0.0   \n",
       "1           0.0           0.0           0.0           0.0           0.0   \n",
       "2           0.0           0.0           0.0           0.0           0.0   \n",
       "3           0.0           0.0           0.0           0.0           0.0   \n",
       "4           0.0           0.0           0.0           0.0           0.0   \n",
       "\n",
       "   Book_Name987  Book_Name988  Book_Name989  Book_Name990  \n",
       "0           0.0           0.0           0.0           0.0  \n",
       "1           0.0           0.0           0.0           0.0  \n",
       "2           0.0           0.0           0.0           0.0  \n",
       "3           0.0           0.0           0.0           0.0  \n",
       "4           0.0           0.0           0.0           0.0  \n",
       "\n",
       "[5 rows x 1520 columns]"
      ]
     },
     "execution_count": 45,
     "metadata": {},
     "output_type": "execute_result"
    }
   ],
   "source": [
    "mergedDF.head()"
   ]
  },
  {
   "cell_type": "code",
   "execution_count": 49,
   "metadata": {},
   "outputs": [
    {
     "data": {
      "text/html": [
       "<div>\n",
       "<style scoped>\n",
       "    .dataframe tbody tr th:only-of-type {\n",
       "        vertical-align: middle;\n",
       "    }\n",
       "\n",
       "    .dataframe tbody tr th {\n",
       "        vertical-align: top;\n",
       "    }\n",
       "\n",
       "    .dataframe thead th {\n",
       "        text-align: right;\n",
       "    }\n",
       "</style>\n",
       "<table border=\"1\" class=\"dataframe\">\n",
       "  <thead>\n",
       "    <tr style=\"text-align: right;\">\n",
       "      <th></th>\n",
       "      <th>male_count</th>\n",
       "      <th>female_count</th>\n",
       "      <th>para_count</th>\n",
       "      <th>guten_genre</th>\n",
       "      <th>Puch</th>\n",
       "      <th>Conj-Prep</th>\n",
       "      <th>no_ofCommas</th>\n",
       "      <th>no_coln</th>\n",
       "      <th>no_period</th>\n",
       "      <th>no_doubleQuotes</th>\n",
       "      <th>...</th>\n",
       "      <th>Book_Name981</th>\n",
       "      <th>Book_Name982</th>\n",
       "      <th>Book_Name983</th>\n",
       "      <th>Book_Name984</th>\n",
       "      <th>Book_Name985</th>\n",
       "      <th>Book_Name986</th>\n",
       "      <th>Book_Name987</th>\n",
       "      <th>Book_Name988</th>\n",
       "      <th>Book_Name989</th>\n",
       "      <th>Book_Name990</th>\n",
       "    </tr>\n",
       "  </thead>\n",
       "  <tbody>\n",
       "    <tr>\n",
       "      <td>0</td>\n",
       "      <td>-0.107486</td>\n",
       "      <td>-0.109654</td>\n",
       "      <td>-0.160190</td>\n",
       "      <td>Allegories</td>\n",
       "      <td>0.000283</td>\n",
       "      <td>0.100930</td>\n",
       "      <td>0.000341</td>\n",
       "      <td>0.000549</td>\n",
       "      <td>0.000282</td>\n",
       "      <td>0.000088</td>\n",
       "      <td>...</td>\n",
       "      <td>0.0</td>\n",
       "      <td>0.0</td>\n",
       "      <td>0.0</td>\n",
       "      <td>0.0</td>\n",
       "      <td>0.0</td>\n",
       "      <td>0.0</td>\n",
       "      <td>0.0</td>\n",
       "      <td>0.0</td>\n",
       "      <td>0.0</td>\n",
       "      <td>0.0</td>\n",
       "    </tr>\n",
       "    <tr>\n",
       "      <td>1</td>\n",
       "      <td>-0.001378</td>\n",
       "      <td>-0.023623</td>\n",
       "      <td>-0.020020</td>\n",
       "      <td>Allegories</td>\n",
       "      <td>0.000769</td>\n",
       "      <td>0.098077</td>\n",
       "      <td>0.000840</td>\n",
       "      <td>0.002242</td>\n",
       "      <td>0.000816</td>\n",
       "      <td>0.001598</td>\n",
       "      <td>...</td>\n",
       "      <td>0.0</td>\n",
       "      <td>0.0</td>\n",
       "      <td>0.0</td>\n",
       "      <td>0.0</td>\n",
       "      <td>0.0</td>\n",
       "      <td>0.0</td>\n",
       "      <td>0.0</td>\n",
       "      <td>0.0</td>\n",
       "      <td>0.0</td>\n",
       "      <td>0.0</td>\n",
       "    </tr>\n",
       "    <tr>\n",
       "      <td>2</td>\n",
       "      <td>-0.127530</td>\n",
       "      <td>-0.164698</td>\n",
       "      <td>-0.228365</td>\n",
       "      <td>Christmas Stories</td>\n",
       "      <td>0.000114</td>\n",
       "      <td>0.109298</td>\n",
       "      <td>0.000161</td>\n",
       "      <td>0.000065</td>\n",
       "      <td>0.000092</td>\n",
       "      <td>0.000041</td>\n",
       "      <td>...</td>\n",
       "      <td>0.0</td>\n",
       "      <td>0.0</td>\n",
       "      <td>0.0</td>\n",
       "      <td>0.0</td>\n",
       "      <td>0.0</td>\n",
       "      <td>0.0</td>\n",
       "      <td>0.0</td>\n",
       "      <td>0.0</td>\n",
       "      <td>0.0</td>\n",
       "      <td>0.0</td>\n",
       "    </tr>\n",
       "    <tr>\n",
       "      <td>3</td>\n",
       "      <td>-0.078988</td>\n",
       "      <td>-0.155239</td>\n",
       "      <td>-0.149864</td>\n",
       "      <td>Christmas Stories</td>\n",
       "      <td>0.000422</td>\n",
       "      <td>0.097503</td>\n",
       "      <td>0.000466</td>\n",
       "      <td>0.000558</td>\n",
       "      <td>0.000349</td>\n",
       "      <td>0.000293</td>\n",
       "      <td>...</td>\n",
       "      <td>0.0</td>\n",
       "      <td>0.0</td>\n",
       "      <td>0.0</td>\n",
       "      <td>0.0</td>\n",
       "      <td>0.0</td>\n",
       "      <td>0.0</td>\n",
       "      <td>0.0</td>\n",
       "      <td>0.0</td>\n",
       "      <td>0.0</td>\n",
       "      <td>0.0</td>\n",
       "    </tr>\n",
       "    <tr>\n",
       "      <td>4</td>\n",
       "      <td>0.110572</td>\n",
       "      <td>0.174208</td>\n",
       "      <td>0.138396</td>\n",
       "      <td>Christmas Stories</td>\n",
       "      <td>0.002142</td>\n",
       "      <td>0.100023</td>\n",
       "      <td>0.001976</td>\n",
       "      <td>0.001293</td>\n",
       "      <td>0.001873</td>\n",
       "      <td>0.006477</td>\n",
       "      <td>...</td>\n",
       "      <td>0.0</td>\n",
       "      <td>0.0</td>\n",
       "      <td>0.0</td>\n",
       "      <td>0.0</td>\n",
       "      <td>0.0</td>\n",
       "      <td>0.0</td>\n",
       "      <td>0.0</td>\n",
       "      <td>0.0</td>\n",
       "      <td>0.0</td>\n",
       "      <td>0.0</td>\n",
       "    </tr>\n",
       "  </tbody>\n",
       "</table>\n",
       "<p>5 rows × 1514 columns</p>\n",
       "</div>"
      ],
      "text/plain": [
       "   male_count  female_count  para_count        guten_genre      Puch  \\\n",
       "0   -0.107486     -0.109654   -0.160190         Allegories  0.000283   \n",
       "1   -0.001378     -0.023623   -0.020020         Allegories  0.000769   \n",
       "2   -0.127530     -0.164698   -0.228365  Christmas Stories  0.000114   \n",
       "3   -0.078988     -0.155239   -0.149864  Christmas Stories  0.000422   \n",
       "4    0.110572      0.174208    0.138396  Christmas Stories  0.002142   \n",
       "\n",
       "   Conj-Prep  no_ofCommas   no_coln  no_period  no_doubleQuotes  ...  \\\n",
       "0   0.100930     0.000341  0.000549   0.000282         0.000088  ...   \n",
       "1   0.098077     0.000840  0.002242   0.000816         0.001598  ...   \n",
       "2   0.109298     0.000161  0.000065   0.000092         0.000041  ...   \n",
       "3   0.097503     0.000466  0.000558   0.000349         0.000293  ...   \n",
       "4   0.100023     0.001976  0.001293   0.001873         0.006477  ...   \n",
       "\n",
       "   Book_Name981  Book_Name982  Book_Name983  Book_Name984  Book_Name985  \\\n",
       "0           0.0           0.0           0.0           0.0           0.0   \n",
       "1           0.0           0.0           0.0           0.0           0.0   \n",
       "2           0.0           0.0           0.0           0.0           0.0   \n",
       "3           0.0           0.0           0.0           0.0           0.0   \n",
       "4           0.0           0.0           0.0           0.0           0.0   \n",
       "\n",
       "   Book_Name986  Book_Name987  Book_Name988  Book_Name989  Book_Name990  \n",
       "0           0.0           0.0           0.0           0.0           0.0  \n",
       "1           0.0           0.0           0.0           0.0           0.0  \n",
       "2           0.0           0.0           0.0           0.0           0.0  \n",
       "3           0.0           0.0           0.0           0.0           0.0  \n",
       "4           0.0           0.0           0.0           0.0           0.0  \n",
       "\n",
       "[5 rows x 1514 columns]"
      ]
     },
     "execution_count": 49,
     "metadata": {},
     "output_type": "execute_result"
    }
   ],
   "source": [
    "mergedDF.head()"
   ]
  },
  {
   "cell_type": "code",
   "execution_count": null,
   "metadata": {},
   "outputs": [],
   "source": [
    " # creating instance of one-hot-encoder\n",
    " enc = OneHotEncoder(handle_unknown='ignore')\n",
    " # passing bridge-types-cat column (label encoded values of bridge_types)\n",
    " enc_df = pd.DataFrame(enc.fit_transform(mergedDF[['Author_Name']]).toarray())\n",
    " # merge with main df bridge_df on key values\n",
    " del mergedDF['Author_Name']\n",
    " col_name=[]\n",
    " for i in range(enc_df.columns.start,enc_df.columns.stop,enc_df.columns.step):\n",
    "    x=\"AutName\"+(str(i))\n",
    "    col_name.append(x)\n",
    " enc_df.columns=col_name\n",
    " mergedDF= mergedDF.join(enc_df)"
   ]
  },
  {
   "cell_type": "code",
   "execution_count": 48,
   "metadata": {},
   "outputs": [],
   "source": [
    "del mergedDF['file']\n",
    "del mergedDF['Content']\n",
    "del mergedDF['clean_data']\n",
    "del mergedDF['book_id']\n",
    "\n",
    "del mergedDF['lexical_diversity_score_onChunk']\n",
    "del mergedDF['flesh_reading_score']\n"
   ]
  },
  {
   "cell_type": "code",
   "execution_count": null,
   "metadata": {},
   "outputs": [],
   "source": [
    " enc1 = OneHotEncoder(handle_unknown='ignore')\n",
    " enc_df1 = pd.DataFrame(enc1.fit_transform(mergedDF[['Book_Name']]).toarray())\n",
    " # merge with main df bridge_df on key values\n",
    " del mergedDF['Book_Name']\n",
    " col_name=[]\n",
    " for i in range(enc_df1.columns.start,enc_df1.columns.stop,enc_df1.columns.step):\n",
    "    x=\"Book_Name\"+(str(i))\n",
    "    col_name.append(x)\n",
    " enc_df1.columns=col_name\n",
    " mergedDF= mergedDF.join(enc_df1)"
   ]
  },
  {
   "cell_type": "code",
   "execution_count": 50,
   "metadata": {},
   "outputs": [
    {
     "data": {
      "text/plain": [
       "0           Allegories\n",
       "1           Allegories\n",
       "2    Christmas Stories\n",
       "3    Christmas Stories\n",
       "4    Christmas Stories\n",
       "Name: guten_genre, dtype: object"
      ]
     },
     "execution_count": 50,
     "metadata": {},
     "output_type": "execute_result"
    }
   ],
   "source": [
    "y=mergedDF['guten_genre']\n",
    "del  mergedDF['guten_genre']\n",
    "y.head()"
   ]
  },
  {
   "cell_type": "code",
   "execution_count": 51,
   "metadata": {},
   "outputs": [],
   "source": [
    "X=mergedDF"
   ]
  },
  {
   "cell_type": "code",
   "execution_count": 52,
   "metadata": {},
   "outputs": [
    {
     "data": {
      "text/plain": [
       "(993,)"
      ]
     },
     "execution_count": 52,
     "metadata": {},
     "output_type": "execute_result"
    }
   ],
   "source": [
    "y.shape"
   ]
  },
  {
   "cell_type": "code",
   "execution_count": 53,
   "metadata": {},
   "outputs": [],
   "source": [
    " train, test, train_labels, test_labels = train_test_split(X, y, test_size=0.3, random_state=42,stratify=y)"
   ]
  },
  {
   "cell_type": "code",
   "execution_count": 55,
   "metadata": {},
   "outputs": [
    {
     "data": {
      "text/html": [
       "<div>\n",
       "<style scoped>\n",
       "    .dataframe tbody tr th:only-of-type {\n",
       "        vertical-align: middle;\n",
       "    }\n",
       "\n",
       "    .dataframe tbody tr th {\n",
       "        vertical-align: top;\n",
       "    }\n",
       "\n",
       "    .dataframe thead th {\n",
       "        text-align: right;\n",
       "    }\n",
       "</style>\n",
       "<table border=\"1\" class=\"dataframe\">\n",
       "  <thead>\n",
       "    <tr style=\"text-align: right;\">\n",
       "      <th></th>\n",
       "      <th>male_count</th>\n",
       "      <th>female_count</th>\n",
       "      <th>para_count</th>\n",
       "      <th>Puch</th>\n",
       "      <th>Conj-Prep</th>\n",
       "      <th>no_ofCommas</th>\n",
       "      <th>no_coln</th>\n",
       "      <th>no_period</th>\n",
       "      <th>no_doubleQuotes</th>\n",
       "      <th>number_sen</th>\n",
       "      <th>...</th>\n",
       "      <th>Book_Name981</th>\n",
       "      <th>Book_Name982</th>\n",
       "      <th>Book_Name983</th>\n",
       "      <th>Book_Name984</th>\n",
       "      <th>Book_Name985</th>\n",
       "      <th>Book_Name986</th>\n",
       "      <th>Book_Name987</th>\n",
       "      <th>Book_Name988</th>\n",
       "      <th>Book_Name989</th>\n",
       "      <th>Book_Name990</th>\n",
       "    </tr>\n",
       "  </thead>\n",
       "  <tbody>\n",
       "    <tr>\n",
       "      <td>393</td>\n",
       "      <td>0.259142</td>\n",
       "      <td>0.031339</td>\n",
       "      <td>0.163573</td>\n",
       "      <td>0.002088</td>\n",
       "      <td>0.096182</td>\n",
       "      <td>0.002001</td>\n",
       "      <td>0.001600</td>\n",
       "      <td>0.001547</td>\n",
       "      <td>0.007481</td>\n",
       "      <td>0.001639</td>\n",
       "      <td>...</td>\n",
       "      <td>0.0</td>\n",
       "      <td>0.0</td>\n",
       "      <td>0.0</td>\n",
       "      <td>0.0</td>\n",
       "      <td>0.0</td>\n",
       "      <td>0.0</td>\n",
       "      <td>0.0</td>\n",
       "      <td>0.0</td>\n",
       "      <td>0.0</td>\n",
       "      <td>0.0</td>\n",
       "    </tr>\n",
       "    <tr>\n",
       "      <td>433</td>\n",
       "      <td>0.011874</td>\n",
       "      <td>0.029219</td>\n",
       "      <td>-0.084376</td>\n",
       "      <td>0.000954</td>\n",
       "      <td>0.086878</td>\n",
       "      <td>0.000795</td>\n",
       "      <td>0.000809</td>\n",
       "      <td>0.001202</td>\n",
       "      <td>0.000955</td>\n",
       "      <td>0.001150</td>\n",
       "      <td>...</td>\n",
       "      <td>0.0</td>\n",
       "      <td>0.0</td>\n",
       "      <td>0.0</td>\n",
       "      <td>0.0</td>\n",
       "      <td>0.0</td>\n",
       "      <td>0.0</td>\n",
       "      <td>0.0</td>\n",
       "      <td>0.0</td>\n",
       "      <td>0.0</td>\n",
       "      <td>0.0</td>\n",
       "    </tr>\n",
       "    <tr>\n",
       "      <td>579</td>\n",
       "      <td>-0.031396</td>\n",
       "      <td>-0.034469</td>\n",
       "      <td>-0.093853</td>\n",
       "      <td>0.000609</td>\n",
       "      <td>0.098459</td>\n",
       "      <td>0.000756</td>\n",
       "      <td>0.002493</td>\n",
       "      <td>0.000416</td>\n",
       "      <td>0.000199</td>\n",
       "      <td>0.000499</td>\n",
       "      <td>...</td>\n",
       "      <td>0.0</td>\n",
       "      <td>0.0</td>\n",
       "      <td>0.0</td>\n",
       "      <td>0.0</td>\n",
       "      <td>0.0</td>\n",
       "      <td>0.0</td>\n",
       "      <td>0.0</td>\n",
       "      <td>0.0</td>\n",
       "      <td>0.0</td>\n",
       "      <td>0.0</td>\n",
       "    </tr>\n",
       "    <tr>\n",
       "      <td>72</td>\n",
       "      <td>-0.022419</td>\n",
       "      <td>-0.106719</td>\n",
       "      <td>-0.030628</td>\n",
       "      <td>0.000783</td>\n",
       "      <td>0.103279</td>\n",
       "      <td>0.000560</td>\n",
       "      <td>0.000279</td>\n",
       "      <td>0.000707</td>\n",
       "      <td>0.001082</td>\n",
       "      <td>0.000795</td>\n",
       "      <td>...</td>\n",
       "      <td>0.0</td>\n",
       "      <td>0.0</td>\n",
       "      <td>0.0</td>\n",
       "      <td>0.0</td>\n",
       "      <td>0.0</td>\n",
       "      <td>0.0</td>\n",
       "      <td>0.0</td>\n",
       "      <td>0.0</td>\n",
       "      <td>0.0</td>\n",
       "      <td>0.0</td>\n",
       "    </tr>\n",
       "    <tr>\n",
       "      <td>71</td>\n",
       "      <td>0.007979</td>\n",
       "      <td>0.029545</td>\n",
       "      <td>0.044478</td>\n",
       "      <td>0.000978</td>\n",
       "      <td>0.095528</td>\n",
       "      <td>0.000971</td>\n",
       "      <td>0.001423</td>\n",
       "      <td>0.000959</td>\n",
       "      <td>0.000955</td>\n",
       "      <td>0.000982</td>\n",
       "      <td>...</td>\n",
       "      <td>0.0</td>\n",
       "      <td>0.0</td>\n",
       "      <td>0.0</td>\n",
       "      <td>0.0</td>\n",
       "      <td>0.0</td>\n",
       "      <td>0.0</td>\n",
       "      <td>0.0</td>\n",
       "      <td>0.0</td>\n",
       "      <td>0.0</td>\n",
       "      <td>0.0</td>\n",
       "    </tr>\n",
       "  </tbody>\n",
       "</table>\n",
       "<p>5 rows × 1513 columns</p>\n",
       "</div>"
      ],
      "text/plain": [
       "     male_count  female_count  para_count      Puch  Conj-Prep  no_ofCommas  \\\n",
       "393    0.259142      0.031339    0.163573  0.002088   0.096182     0.002001   \n",
       "433    0.011874      0.029219   -0.084376  0.000954   0.086878     0.000795   \n",
       "579   -0.031396     -0.034469   -0.093853  0.000609   0.098459     0.000756   \n",
       "72    -0.022419     -0.106719   -0.030628  0.000783   0.103279     0.000560   \n",
       "71     0.007979      0.029545    0.044478  0.000978   0.095528     0.000971   \n",
       "\n",
       "      no_coln  no_period  no_doubleQuotes  number_sen  ...  Book_Name981  \\\n",
       "393  0.001600   0.001547         0.007481    0.001639  ...           0.0   \n",
       "433  0.000809   0.001202         0.000955    0.001150  ...           0.0   \n",
       "579  0.002493   0.000416         0.000199    0.000499  ...           0.0   \n",
       "72   0.000279   0.000707         0.001082    0.000795  ...           0.0   \n",
       "71   0.001423   0.000959         0.000955    0.000982  ...           0.0   \n",
       "\n",
       "     Book_Name982  Book_Name983  Book_Name984  Book_Name985  Book_Name986  \\\n",
       "393           0.0           0.0           0.0           0.0           0.0   \n",
       "433           0.0           0.0           0.0           0.0           0.0   \n",
       "579           0.0           0.0           0.0           0.0           0.0   \n",
       "72            0.0           0.0           0.0           0.0           0.0   \n",
       "71            0.0           0.0           0.0           0.0           0.0   \n",
       "\n",
       "     Book_Name987  Book_Name988  Book_Name989  Book_Name990  \n",
       "393           0.0           0.0           0.0           0.0  \n",
       "433           0.0           0.0           0.0           0.0  \n",
       "579           0.0           0.0           0.0           0.0  \n",
       "72            0.0           0.0           0.0           0.0  \n",
       "71            0.0           0.0           0.0           0.0  \n",
       "\n",
       "[5 rows x 1513 columns]"
      ]
     },
     "execution_count": 55,
     "metadata": {},
     "output_type": "execute_result"
    }
   ],
   "source": [
    "train.head()"
   ]
  },
  {
   "cell_type": "code",
   "execution_count": 56,
   "metadata": {},
   "outputs": [],
   "source": [
    "svc = svm.SVC(gamma='auto')\n",
    "parameters = {'kernel':('linear', 'rbf'), 'C':[1, 10]}"
   ]
  },
  {
   "cell_type": "code",
   "execution_count": 57,
   "metadata": {},
   "outputs": [],
   "source": [
    "clf = GridSearchCV(svc, parameters)"
   ]
  },
  {
   "cell_type": "code",
   "execution_count": 58,
   "metadata": {
    "scrolled": true
   },
   "outputs": [
    {
     "name": "stderr",
     "output_type": "stream",
     "text": [
      "/opt/anaconda3/lib/python3.7/site-packages/sklearn/model_selection/_split.py:1978: FutureWarning: The default value of cv will change from 3 to 5 in version 0.22. Specify it explicitly to silence this warning.\n",
      "  warnings.warn(CV_WARNING, FutureWarning)\n",
      "/opt/anaconda3/lib/python3.7/site-packages/sklearn/model_selection/_split.py:657: Warning: The least populated class in y has only 1 members, which is too few. The minimum number of members in any class cannot be less than n_splits=3.\n",
      "  % (min_groups, self.n_splits)), Warning)\n",
      "/opt/anaconda3/lib/python3.7/site-packages/sklearn/model_selection/_search.py:814: DeprecationWarning: The default of the `iid` parameter will change from True to False in version 0.22 and will be removed in 0.24. This will change numeric results when test-set sizes are unequal.\n",
      "  DeprecationWarning)\n"
     ]
    },
    {
     "data": {
      "text/plain": [
       "GridSearchCV(cv='warn', error_score='raise-deprecating',\n",
       "             estimator=SVC(C=1.0, cache_size=200, class_weight=None, coef0=0.0,\n",
       "                           decision_function_shape='ovr', degree=3,\n",
       "                           gamma='auto', kernel='rbf', max_iter=-1,\n",
       "                           probability=False, random_state=None, shrinking=True,\n",
       "                           tol=0.001, verbose=False),\n",
       "             iid='warn', n_jobs=None,\n",
       "             param_grid={'C': [1, 10], 'kernel': ('linear', 'rbf')},\n",
       "             pre_dispatch='2*n_jobs', refit=True, return_train_score=False,\n",
       "             scoring=None, verbose=0)"
      ]
     },
     "execution_count": 58,
     "metadata": {},
     "output_type": "execute_result"
    }
   ],
   "source": [
    "clf.fit(train,train_labels)"
   ]
  },
  {
   "cell_type": "code",
   "execution_count": 59,
   "metadata": {
    "scrolled": true
   },
   "outputs": [
    {
     "data": {
      "text/plain": [
       "{'C': 1, 'kernel': 'linear'}"
      ]
     },
     "execution_count": 59,
     "metadata": {},
     "output_type": "execute_result"
    }
   ],
   "source": [
    "clf.best_params_"
   ]
  },
  {
   "cell_type": "code",
   "execution_count": 60,
   "metadata": {},
   "outputs": [],
   "source": [
    "predictions=clf.predict(test)\n",
    "train_pred=clf.predict(train)"
   ]
  },
  {
   "cell_type": "code",
   "execution_count": 61,
   "metadata": {},
   "outputs": [
    {
     "name": "stdout",
     "output_type": "stream",
     "text": [
      "train accuracy: 1.0 \n",
      "test accuracy: 0.8456375838926175 \n"
     ]
    }
   ],
   "source": [
    "print(\"train accuracy: {} \".format(accuracy_score(train_labels,train_pred,normalize=True, sample_weight=None)))\n",
    "print(\"test accuracy: {} \".format(accuracy_score(test_labels,predictions,normalize=True, sample_weight=None))) "
   ]
  },
  {
   "cell_type": "code",
   "execution_count": 62,
   "metadata": {
    "scrolled": true
   },
   "outputs": [
    {
     "name": "stdout",
     "output_type": "stream",
     "text": [
      "Confusion Matrix:     \n",
      "[[  0   0   0   0   0   1   0   0   0]\n",
      " [  0   0   0   0   0   1   0   0   0]\n",
      " [  0   0  15   0   0  18   0   0   0]\n",
      " [  0   0   0   0   0   2   0   0   0]\n",
      " [  0   0   0   0   0   2   0   0   0]\n",
      " [  0   0   4   0   0 232   0   2   0]\n",
      " [  0   0   0   0   0   5   0   0   0]\n",
      " [  0   0   0   0   0   7   0   4   0]\n",
      " [  0   0   0   0   0   1   0   3   1]]\n",
      "\n",
      "\n",
      "Classification Report:       \n",
      "                             precision    recall  f1-score   support\n",
      "\n",
      "                 Allegories       0.00      0.00      0.00         1\n",
      "          Christmas Stories       0.00      0.00      0.00         1\n",
      "      Detective and Mystery       0.79      0.45      0.58        33\n",
      "           Ghost and Horror       0.00      0.00      0.00         2\n",
      "Humorous and Wit and Satire       0.00      0.00      0.00         2\n",
      "                   Literary       0.86      0.97      0.92       238\n",
      "           Love and Romance       0.00      0.00      0.00         5\n",
      "          Sea and Adventure       0.44      0.36      0.40        11\n",
      "            Western Stories       1.00      0.20      0.33         5\n",
      "\n",
      "                   accuracy                           0.85       298\n",
      "                  macro avg       0.34      0.22      0.25       298\n",
      "               weighted avg       0.81      0.85      0.82       298\n",
      "\n"
     ]
    },
    {
     "name": "stderr",
     "output_type": "stream",
     "text": [
      "/opt/anaconda3/lib/python3.7/site-packages/sklearn/metrics/classification.py:1437: UndefinedMetricWarning: Precision and F-score are ill-defined and being set to 0.0 in labels with no predicted samples.\n",
      "  'precision', 'predicted', average, warn_for)\n"
     ]
    }
   ],
   "source": [
    "from sklearn.metrics import classification_report, confusion_matrix\n",
    "print(\"Confusion Matrix:     \")\n",
    "print(confusion_matrix(test_labels, predictions))\n",
    "        \n",
    "print(\"\\n\\nClassification Report:       \")\n",
    "print(classification_report(test_labels, predictions))"
   ]
  },
  {
   "cell_type": "code",
   "execution_count": 63,
   "metadata": {
    "scrolled": false
   },
   "outputs": [
    {
     "name": "stderr",
     "output_type": "stream",
     "text": [
      "/opt/anaconda3/lib/python3.7/site-packages/sklearn/model_selection/_split.py:1978: FutureWarning: The default value of cv will change from 3 to 5 in version 0.22. Specify it explicitly to silence this warning.\n",
      "  warnings.warn(CV_WARNING, FutureWarning)\n",
      "/opt/anaconda3/lib/python3.7/site-packages/sklearn/model_selection/_split.py:657: Warning: The least populated class in y has only 1 members, which is too few. The minimum number of members in any class cannot be less than n_splits=3.\n",
      "  % (min_groups, self.n_splits)), Warning)\n",
      "/opt/anaconda3/lib/python3.7/site-packages/sklearn/model_selection/_search.py:814: DeprecationWarning: The default of the `iid` parameter will change from True to False in version 0.22 and will be removed in 0.24. This will change numeric results when test-set sizes are unequal.\n",
      "  DeprecationWarning)\n"
     ]
    },
    {
     "data": {
      "text/plain": [
       "{'C': 0.001, 'gamma': 0.001}"
      ]
     },
     "execution_count": 63,
     "metadata": {},
     "output_type": "execute_result"
    }
   ],
   "source": [
    "param_grid1 = {'C': [0.001, 0.01, 0.1, 1, 10], 'gamma' : [1e-3, 1e-4]}\n",
    "grid_search1 = GridSearchCV(svm.SVC(kernel='rbf',gamma='auto'), param_grid1)\n",
    "grid_search1.fit(train,train_labels)\n",
    "grid_search1.best_params_"
   ]
  },
  {
   "cell_type": "code",
   "execution_count": 64,
   "metadata": {},
   "outputs": [],
   "source": [
    "predictions=grid_search1.predict(test)\n",
    "train_pred=grid_search1.predict(train)"
   ]
  },
  {
   "cell_type": "code",
   "execution_count": 65,
   "metadata": {},
   "outputs": [
    {
     "name": "stdout",
     "output_type": "stream",
     "text": [
      "train accuracy: 0.7971223021582734 \n",
      "test accuracy: 0.7986577181208053 \n"
     ]
    }
   ],
   "source": [
    "print(\"train accuracy: {} \".format(accuracy_score(train_labels,train_pred,normalize=True, sample_weight=None)))\n",
    "print(\"test accuracy: {} \".format(accuracy_score(test_labels,predictions,normalize=True, sample_weight=None))) "
   ]
  },
  {
   "cell_type": "code",
   "execution_count": 66,
   "metadata": {},
   "outputs": [
    {
     "name": "stdout",
     "output_type": "stream",
     "text": [
      "Confusion Matrix:     \n",
      "[[  0   0   0   0   0   1   0   0   0]\n",
      " [  0   0   0   0   0   1   0   0   0]\n",
      " [  0   0   0   0   0  33   0   0   0]\n",
      " [  0   0   0   0   0   2   0   0   0]\n",
      " [  0   0   0   0   0   2   0   0   0]\n",
      " [  0   0   0   0   0 238   0   0   0]\n",
      " [  0   0   0   0   0   5   0   0   0]\n",
      " [  0   0   0   0   0  11   0   0   0]\n",
      " [  0   0   0   0   0   5   0   0   0]]\n",
      "\n",
      "\n",
      "Classification Report:       \n",
      "                             precision    recall  f1-score   support\n",
      "\n",
      "                 Allegories       0.00      0.00      0.00         1\n",
      "          Christmas Stories       0.00      0.00      0.00         1\n",
      "      Detective and Mystery       0.00      0.00      0.00        33\n",
      "           Ghost and Horror       0.00      0.00      0.00         2\n",
      "Humorous and Wit and Satire       0.00      0.00      0.00         2\n",
      "                   Literary       0.80      1.00      0.89       238\n",
      "           Love and Romance       0.00      0.00      0.00         5\n",
      "          Sea and Adventure       0.00      0.00      0.00        11\n",
      "            Western Stories       0.00      0.00      0.00         5\n",
      "\n",
      "                   accuracy                           0.80       298\n",
      "                  macro avg       0.09      0.11      0.10       298\n",
      "               weighted avg       0.64      0.80      0.71       298\n",
      "\n"
     ]
    },
    {
     "name": "stderr",
     "output_type": "stream",
     "text": [
      "/opt/anaconda3/lib/python3.7/site-packages/sklearn/metrics/classification.py:1437: UndefinedMetricWarning: Precision and F-score are ill-defined and being set to 0.0 in labels with no predicted samples.\n",
      "  'precision', 'predicted', average, warn_for)\n"
     ]
    }
   ],
   "source": [
    "from sklearn.metrics import classification_report, confusion_matrix\n",
    "print(\"Confusion Matrix:     \")\n",
    "print(confusion_matrix(test_labels, predictions))\n",
    "        \n",
    "print(\"\\n\\nClassification Report:       \")\n",
    "print(classification_report(test_labels, predictions))"
   ]
  },
  {
   "cell_type": "code",
   "execution_count": 67,
   "metadata": {},
   "outputs": [
    {
     "name": "stderr",
     "output_type": "stream",
     "text": [
      "/opt/anaconda3/lib/python3.7/site-packages/sklearn/model_selection/_split.py:1978: FutureWarning: The default value of cv will change from 3 to 5 in version 0.22. Specify it explicitly to silence this warning.\n",
      "  warnings.warn(CV_WARNING, FutureWarning)\n",
      "/opt/anaconda3/lib/python3.7/site-packages/sklearn/model_selection/_split.py:657: Warning: The least populated class in y has only 1 members, which is too few. The minimum number of members in any class cannot be less than n_splits=3.\n",
      "  % (min_groups, self.n_splits)), Warning)\n",
      "/opt/anaconda3/lib/python3.7/site-packages/sklearn/model_selection/_search.py:814: DeprecationWarning: The default of the `iid` parameter will change from True to False in version 0.22 and will be removed in 0.24. This will change numeric results when test-set sizes are unequal.\n",
      "  DeprecationWarning)\n"
     ]
    },
    {
     "data": {
      "text/plain": [
       "{'C': 10, 'gamma': 0.1}"
      ]
     },
     "execution_count": 67,
     "metadata": {},
     "output_type": "execute_result"
    }
   ],
   "source": [
    "param_grid = {'C': [0.001, 0.01, 0.1, 1, 10], 'gamma' : [0.001, 0.01, 0.1, 1]}\n",
    "grid_search = GridSearchCV(svm.SVC(kernel='rbf',gamma='auto'), param_grid)\n",
    "grid_search.fit(train,train_labels)\n",
    "grid_search.best_params_"
   ]
  },
  {
   "cell_type": "code",
   "execution_count": 68,
   "metadata": {},
   "outputs": [],
   "source": [
    "predictions=grid_search.predict(test)\n",
    "train_pred=grid_search.predict(train)"
   ]
  },
  {
   "cell_type": "code",
   "execution_count": 69,
   "metadata": {},
   "outputs": [
    {
     "name": "stdout",
     "output_type": "stream",
     "text": [
      "train accuracy: 1.0 \n",
      "test accuracy: 0.8389261744966443 \n"
     ]
    }
   ],
   "source": [
    "print(\"train accuracy: {} \".format(accuracy_score(train_labels,train_pred,normalize=True, sample_weight=None)))\n",
    "print(\"test accuracy: {} \".format(accuracy_score(test_labels,predictions,normalize=True, sample_weight=None))) "
   ]
  },
  {
   "cell_type": "code",
   "execution_count": 70,
   "metadata": {},
   "outputs": [
    {
     "name": "stdout",
     "output_type": "stream",
     "text": [
      "Confusion Matrix:     \n",
      "[[  0   0   0   0   0   1   0   0   0]\n",
      " [  0   0   0   0   0   1   0   0   0]\n",
      " [  0   0  15   0   0  18   0   0   0]\n",
      " [  0   0   0   0   0   2   0   0   0]\n",
      " [  0   0   0   0   0   2   0   0   0]\n",
      " [  0   0   2   0   0 234   0   2   0]\n",
      " [  0   0   0   0   0   5   0   0   0]\n",
      " [  0   0   0   0   0  10   0   1   0]\n",
      " [  0   0   0   0   0   2   0   3   0]]\n",
      "\n",
      "\n",
      "Classification Report:       \n",
      "                             precision    recall  f1-score   support\n",
      "\n",
      "                 Allegories       0.00      0.00      0.00         1\n",
      "          Christmas Stories       0.00      0.00      0.00         1\n",
      "      Detective and Mystery       0.88      0.45      0.60        33\n",
      "           Ghost and Horror       0.00      0.00      0.00         2\n",
      "Humorous and Wit and Satire       0.00      0.00      0.00         2\n",
      "                   Literary       0.85      0.98      0.91       238\n",
      "           Love and Romance       0.00      0.00      0.00         5\n",
      "          Sea and Adventure       0.17      0.09      0.12        11\n",
      "            Western Stories       0.00      0.00      0.00         5\n",
      "\n",
      "                   accuracy                           0.84       298\n",
      "                  macro avg       0.21      0.17      0.18       298\n",
      "               weighted avg       0.78      0.84      0.80       298\n",
      "\n"
     ]
    },
    {
     "name": "stderr",
     "output_type": "stream",
     "text": [
      "/opt/anaconda3/lib/python3.7/site-packages/sklearn/metrics/classification.py:1437: UndefinedMetricWarning: Precision and F-score are ill-defined and being set to 0.0 in labels with no predicted samples.\n",
      "  'precision', 'predicted', average, warn_for)\n"
     ]
    }
   ],
   "source": [
    "from sklearn.metrics import classification_report, confusion_matrix\n",
    "print(\"Confusion Matrix:     \")\n",
    "print(confusion_matrix(test_labels, predictions))\n",
    "        \n",
    "print(\"\\n\\nClassification Report:       \")\n",
    "print(classification_report(test_labels, predictions))"
   ]
  },
  {
   "cell_type": "markdown",
   "metadata": {},
   "source": [
    "Both Linear and RBF kernel shows the same performance so using linear kernel."
   ]
  },
  {
   "cell_type": "code",
   "execution_count": 71,
   "metadata": {
    "scrolled": true
   },
   "outputs": [
    {
     "name": "stderr",
     "output_type": "stream",
     "text": [
      "/opt/anaconda3/lib/python3.7/site-packages/sklearn/model_selection/_split.py:1978: FutureWarning: The default value of cv will change from 3 to 5 in version 0.22. Specify it explicitly to silence this warning.\n",
      "  warnings.warn(CV_WARNING, FutureWarning)\n",
      "/opt/anaconda3/lib/python3.7/site-packages/sklearn/model_selection/_split.py:657: Warning: The least populated class in y has only 1 members, which is too few. The minimum number of members in any class cannot be less than n_splits=3.\n",
      "  % (min_groups, self.n_splits)), Warning)\n",
      "/opt/anaconda3/lib/python3.7/site-packages/sklearn/model_selection/_search.py:814: DeprecationWarning: The default of the `iid` parameter will change from True to False in version 0.22 and will be removed in 0.24. This will change numeric results when test-set sizes are unequal.\n",
      "  DeprecationWarning)\n"
     ]
    },
    {
     "data": {
      "text/plain": [
       "{'C': 1, 'gamma': 0.001}"
      ]
     },
     "execution_count": 71,
     "metadata": {},
     "output_type": "execute_result"
    }
   ],
   "source": [
    "param_grid = {'C': [0.001, 0.01, 0.1, 1, 10], 'gamma' : [0.001, 0.01, 0.1, 1, 10, 100, 1000]}\n",
    "grid_search = GridSearchCV(svm.SVC(kernel='linear',gamma='auto'), param_grid)\n",
    "grid_search.fit(train,train_labels)\n",
    "grid_search.best_params_"
   ]
  },
  {
   "cell_type": "code",
   "execution_count": 72,
   "metadata": {},
   "outputs": [],
   "source": [
    "predictions=clf.predict(test)\n",
    "train_pred=clf.predict(train)"
   ]
  },
  {
   "cell_type": "code",
   "execution_count": 73,
   "metadata": {},
   "outputs": [
    {
     "name": "stdout",
     "output_type": "stream",
     "text": [
      "train accuracy: 1.0 \n",
      "test accuracy: 0.8456375838926175 \n"
     ]
    }
   ],
   "source": [
    "print(\"train accuracy: {} \".format(accuracy_score(train_labels,train_pred,normalize=True, sample_weight=None)))\n",
    "print(\"test accuracy: {} \".format(accuracy_score(test_labels,predictions,normalize=True, sample_weight=None))) "
   ]
  },
  {
   "cell_type": "code",
   "execution_count": 74,
   "metadata": {},
   "outputs": [
    {
     "name": "stdout",
     "output_type": "stream",
     "text": [
      "Confusion Matrix:     \n",
      "[[  0   0   0   0   0   1   0   0   0]\n",
      " [  0   0   0   0   0   1   0   0   0]\n",
      " [  0   0  15   0   0  18   0   0   0]\n",
      " [  0   0   0   0   0   2   0   0   0]\n",
      " [  0   0   0   0   0   2   0   0   0]\n",
      " [  0   0   4   0   0 232   0   2   0]\n",
      " [  0   0   0   0   0   5   0   0   0]\n",
      " [  0   0   0   0   0   7   0   4   0]\n",
      " [  0   0   0   0   0   1   0   3   1]]\n",
      "\n",
      "\n",
      "Classification Report:       \n",
      "                             precision    recall  f1-score   support\n",
      "\n",
      "                 Allegories       0.00      0.00      0.00         1\n",
      "          Christmas Stories       0.00      0.00      0.00         1\n",
      "      Detective and Mystery       0.79      0.45      0.58        33\n",
      "           Ghost and Horror       0.00      0.00      0.00         2\n",
      "Humorous and Wit and Satire       0.00      0.00      0.00         2\n",
      "                   Literary       0.86      0.97      0.92       238\n",
      "           Love and Romance       0.00      0.00      0.00         5\n",
      "          Sea and Adventure       0.44      0.36      0.40        11\n",
      "            Western Stories       1.00      0.20      0.33         5\n",
      "\n",
      "                   accuracy                           0.85       298\n",
      "                  macro avg       0.34      0.22      0.25       298\n",
      "               weighted avg       0.81      0.85      0.82       298\n",
      "\n"
     ]
    },
    {
     "name": "stderr",
     "output_type": "stream",
     "text": [
      "/opt/anaconda3/lib/python3.7/site-packages/sklearn/metrics/classification.py:1437: UndefinedMetricWarning: Precision and F-score are ill-defined and being set to 0.0 in labels with no predicted samples.\n",
      "  'precision', 'predicted', average, warn_for)\n"
     ]
    }
   ],
   "source": [
    "from sklearn.metrics import classification_report, confusion_matrix\n",
    "print(\"Confusion Matrix:     \")\n",
    "print(confusion_matrix(test_labels, predictions))\n",
    "        \n",
    "print(\"\\n\\nClassification Report:       \")\n",
    "print(classification_report(test_labels, predictions))"
   ]
  },
  {
   "cell_type": "code",
   "execution_count": null,
   "metadata": {},
   "outputs": [],
   "source": []
  }
 ],
 "metadata": {
  "kernelspec": {
   "display_name": "Python 3",
   "language": "python",
   "name": "python3"
  },
  "language_info": {
   "codemirror_mode": {
    "name": "ipython",
    "version": 3
   },
   "file_extension": ".py",
   "mimetype": "text/x-python",
   "name": "python",
   "nbconvert_exporter": "python",
   "pygments_lexer": "ipython3",
   "version": "3.7.4"
  }
 },
 "nbformat": 4,
 "nbformat_minor": 2
}
