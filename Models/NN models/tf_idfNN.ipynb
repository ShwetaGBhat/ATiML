{
  "nbformat": 4,
  "nbformat_minor": 0,
  "metadata": {
    "kernelspec": {
      "display_name": "Python 3",
      "language": "python",
      "name": "python3"
    },
    "language_info": {
      "codemirror_mode": {
        "name": "ipython",
        "version": 3
      },
      "file_extension": ".py",
      "mimetype": "text/x-python",
      "name": "python",
      "nbconvert_exporter": "python",
      "pygments_lexer": "ipython3",
      "version": "3.6.7"
    },
    "colab": {
      "name": "tf-idfNN.ipynb",
      "provenance": [],
      "collapsed_sections": []
    }
  },
  "cells": [
    {
      "cell_type": "code",
      "metadata": {
        "id": "yJrVeo1TIkk3",
        "colab_type": "code",
        "colab": {
          "base_uri": "https://localhost:8080/",
          "height": 33
        },
        "outputId": "33a2e746-52a8-43c8-e617-ca2caabfebd3"
      },
      "source": [
        "from google.colab import drive\n",
        "drive.mount('/gdrive')"
      ],
      "execution_count": null,
      "outputs": [
        {
          "output_type": "stream",
          "text": [
            "Drive already mounted at /gdrive; to attempt to forcibly remount, call drive.mount(\"/gdrive\", force_remount=True).\n"
          ],
          "name": "stdout"
        }
      ]
    },
    {
      "cell_type": "code",
      "metadata": {
        "id": "7rb05gL4IWRX",
        "colab_type": "code",
        "colab": {}
      },
      "source": [
        "import numpy as np \n",
        "import pandas as pd\n",
        "import tensorflow as tf\n",
        "import matplotlib.pyplot as plt\n",
        "from sklearn.preprocessing import OneHotEncoder\n",
        "from sklearn.model_selection import train_test_split\n",
        "from tensorflow.keras.callbacks import EarlyStopping\n",
        "from sklearn.metrics import accuracy_score, f1_score\n",
        "from sklearn.metrics import classification_report,confusion_matrix\n",
        "from sklearn.feature_extraction.text import TfidfVectorizer\n",
        "from sklearn.preprocessing import OneHotEncoder\n",
        "from sklearn.preprocessing import LabelEncoder"
      ],
      "execution_count": null,
      "outputs": []
    },
    {
      "cell_type": "code",
      "metadata": {
        "id": "zNoIVMdhIWRq",
        "colab_type": "code",
        "colab": {}
      },
      "source": [
        "df = pd.read_csv('/gdrive/My Drive/books_ALLFeatures.csv')"
      ],
      "execution_count": null,
      "outputs": []
    },
    {
      "cell_type": "code",
      "metadata": {
        "id": "ISr6LVMSIWR3",
        "colab_type": "code",
        "colab": {
          "base_uri": "https://localhost:8080/",
          "height": 131
        },
        "outputId": "d8050182-1892-44d5-a701-e304d3bf459a"
      },
      "source": [
        "df.columns"
      ],
      "execution_count": null,
      "outputs": [
        {
          "output_type": "execute_result",
          "data": {
            "text/plain": [
              "Index(['Unnamed: 0', 'file', 'male_count', 'female_count', 'para_count',\n",
              "       'Content', 'Book_Name', 'guten_genre', 'Author_Name', 'Puch', 'book_id',\n",
              "       'Conj-Prep', 'clean_data', 'no_ofCommas', 'no_coln', 'no_period',\n",
              "       'no_doubleQuotes', 'number_sen', 'lexical_diversity_score_onChunk',\n",
              "       'normalized_ttr_chunk', 'flesh_reading_score', 'normalized_frs',\n",
              "       'PropNouns', 'Compound', 'Neg', 'Neutral', 'Positive'],\n",
              "      dtype='object')"
            ]
          },
          "metadata": {
            "tags": []
          },
          "execution_count": 89
        }
      ]
    },
    {
      "cell_type": "code",
      "metadata": {
        "id": "j5nT9BJZIWSJ",
        "colab_type": "code",
        "colab": {
          "base_uri": "https://localhost:8080/",
          "height": 53
        },
        "outputId": "0a38ef77-b67c-485a-bbec-8b3071d2b328"
      },
      "source": [
        "df['clean_data'][0]"
      ],
      "execution_count": null,
      "outputs": [
        {
          "output_type": "execute_result",
          "data": {
            "text/plain": [
              "' steeple church beautiful chime bell many year rung joyous peal touch sexton hand upon rope make full music said slumber christmas people shall glad right merry chime shall ring soon sleep gathered close embrace vision morrow flitted brain midnight dark cloud swept tower darker shadow discontent fell peaceful chime hark discordant sound heard among bell ringing seven long year murmured highest bell chime well placed said voice bell rung long enough besides weary always singing tone answered high bell clear sharp voice together make sweetest harmony returned bell next complainer well know tired tone bear monotony part mean answer call rope ring christmas exclaimed bell together exclaim much please common sympathy would moment weary singing high tone give note responded bell mean change weary note need change recast said bell sadly certainly like many silent morning sexton come ring answered bell boldly part silent refuse ring rest said remained quiet chime needed added sadly point remarked leader still none blamed people think worn need making shall taken tower long stand chance seeing something world part tired death seeing nothing quiet valley murmur another till agreed silent morrow though many chime would preferred ring usual presented bell church returned midnight long journey native valley bringing friend almost solely hear beautiful chime morrow passed church home murmuring bell ceasing wind move beautiful bell said shall hear sweet sing added casting loving glance tower hung bell mile valley close roadside stood cottage inhabited wife whose child fast fading world raise little mother said dying hear christmas chime last time shall hear mother almost morning pale mother wiped brow kissed saying dear almost morning bell chime soon first come hill patiently child pillowed till golden arrow light flashed earth come chime matter said anxious mother strained eye direction tower sexton dead thought took strength away death taken first would tenderly away almost time almost jimmy darling perhaps sexton slept late bell chime heaven mother dear hope ring mother hark bell ringing good sexton gone church last eye glistened strange light vain mother listened sound came ear still death beautiful sing said fell back died chime fell sweeter bell auburn hour sexton working rope vain sound come forth either bell matter exclaimed nervously seven long year failed ring tone vigorously figure stood doorway owner chime gone sexton house hearing bell usual hour thinking overslept finding sought church tried rope success sexton mean said turned sorrowfully away christmas pleasant valley sweet sound missing loss omen many next workman sent tower examine bell defect perceptible sound whole suggested stolen tongue bell taken carried distant city recast tell world said leader packed think seeing much dark answered bell wait till journey transition state listened pastor many time heard word could comprehend delightful prospect change thus bell chatted journey bell little three day later long ride placed fiery furnace instead murmur groan filled moment rest heat hammer sweet vale auburn said leader sorrow sweetly would sing echoed terrible thing recast sighed bell quivered fear placed furnace last much suffering pronounced perfect repacked return tone given quality finer softer richer workman knew none suffering bell master hand furnace affliction hung tower wiser better bell never heard murmur discontent either tone mission moonlight talk among needful experience lesson taught hope reader must faithful quality tone master given needful rich full harmony life aged lived upon exceeding high mountain many year strength began decline found ascent tedious feeble step went valley live hard give view lofty height sank peacefully rest long sleeper valley awoke watching golden broke mist flung beauty hill must last upon mountain said little strength left must devote culture fruit flower valley longer spend climbing hill whose top rest peak fleecy cloud enjoyed many year repose grandeur must devote remainder life helping people valley sunset descended staff hand went slowly mountain side lovely blossom pink golden scarlet gazed garden laborer involuntarily exclaimed fear spent day wisely yonder mountain taking least third time climbing richer flower grow valley softer grass like velvet tread vacant cottage saying accosted laborer returning toil good know cottage near rent mountain exclaimed astonished person addressed coming valley live seeking shelter yonder answered cottage vacated wife would suit anything shelter suit answer dost thou know owns house nellser gardener life river work rich valley said thanking informant moving good father already night shade appear come share shelter bread morning seek nellser gladly accepted kind offer vale make kindly heart feeling said uncovered head enter home laborer fair woman forty came forward clasped hand warmth manner made feel ease many word welcome would done three together supper refreshed food thought retired early nice apartment assigned awake long time musing past present said object wonder something people valley lived apart human tie grown ripe together must riddle something invested veneration daily midst otherwise neither fresh know reserve force wherewith become refreshed humble instrument sent right moment vivify thinking alike much fell asleep awoke throwing bright ray dear said reverence arose dressed still eying early ray golden messenger must content said little sadly longer thee majesty marching mountain side longer follow thee walking resting head crimson evening smile vale tarry warm seed life daily march went room refreshed sleep partook bread honey kind woman ready thanking hospitality departed laborer wife watched sight thought never seen anything beautiful white hair waving morning breeze dusk light shone vacant cottage sent fresh cake milk honey evening meal year passed away cultured land fairer flower sweeter fruit grew valley taught people many truth learned solitary life mountain return learned much faded slowly away brilliant flower within garden grew suddenly distasteful longed look pure white blossom grew mountain whiteness flower could compare others growing half approached purity none equaled flower summit like thing answered desired know would please become great favorite valley look upon pure white flower mountain none care climb thou shalt exclaimed strong youth courageous seldom completed anything undertook lack perseverance blessed started mountain walked long side often missing footing time seeking rotten branch broke grasp nearly threw base repeated effort reach summit found sweet pale blossom growing mossy nook rock dare mountain need climbing farther lucky fellow save many step went mountain side fast could amid rank tangled wood flower hand walking meadow golden foot entered cottage placed blossom exultingly palm quick returned said thou must swift good young never grew mountain thee must found half remember well little flower grew rock used rest journey crowd come strange white flower laughed aloud made youth withdraw abashed much humbled strong heart would tried returned without blossom mountain many others tried never courage reach height daily grew weaker without setting eye flower said good woman given shelter night came valley courage ascent endeavored stimulate others bring blossom cheer heart offered reward choice fruit linen store excuse although loved tenderly none felt equal effort towards noon pale fragile girl distant part vale appeared heard desire stood door cottage knocked dost thou wish asked within mountain flower place hand answered entered room meekly stood thou frail body replied strong heart soul follow strengthen thee fair daughter kissed hand departed morning came returned second drew nigh came back pooh pooh exclaimed group near cottage errand death ought content without sight flower cost much labor think said comrade puff pipe think flower pretty good sure orter content grows sending folk said resumed smoking vigorously looked wise aged mountain passing rapidly away kind neighbor laid last time tearfully around room stood group outside looking wistfully towards mountain kind heart could bear depart without flower gladden eye girl gone long time remarked woman longer gone surer sign reached mountain long weary journey back foot trod often know sharp rock tangled branch come hear footstep away late fear eye behold blossom bring grave hark come approach crowd holding high spotless flower came fair girl torn sandal weary foot beaming eye raised knelt receive blessing fair girl spoke clear tone dying ever whiteness blossom rivaled angel garment spotless purity enters ever soul pluck making white robe persevere mountain pluck flower purity essence enter remain forever reward toiler pause till summit gained good mountain view grand fain would lingered gaze longing blossom hand hastened back thou shalt behold grandeur toil earned thee unto climb mountain summit mind sharp rock loose rough grass beneath tread unto shall view given shall lifted vision without foot grander height weary limb reached back died buried flower breast setting winter snow fell many laborer woman went mountain brought back white blossom deck grave summit view white flower purity grows upon shall ascend gather like youth climb half distance cheat eye soul view height sultry summer youthful pilgrim roadside weary dispirited saying ordered tarry beside hard unsightly rock journeying many day something better given rest upon walking beside shady tree could wait appearance guide hard indeed pilgrim others probably resting beneath green tree running brook look direction drew paper girdle read slowly word tarry rock till guide appears conduct journey folded replaced paper sigh murmur still went hard beyond beautiful green tree whose long branch would shelter burning thirsty bread longer sweet want water could search spring sure could find permitted journey rock hard could pillow head upon often told guide great wisdom knew good best pilgrim surely look dark weariness overcame pilgrim involuntarily laid head upon rock sudden spring touched water leaped pure sparkling hard unsightly spot guide provision pilgrim longer mystical ordered tarry drank parched throat cool whole refreshed guide appeared rounding gentle curve road bade follow dense forest rock journey step pilgrim firm trust begotten within light hope gleamed brow last upon water gushed bare rock pathway life last shall learn father great guide lead flow living water never forsakes time need child said faithful father son daughter journey take keep many day perhaps week power condition storm sickness accident life detained long beyond appointed time absence trust however confidence illness others detain trust wait father shouted chorus voice music ear fond embrace left slowly walked winding path home heard voice child long entered highway voice might hear perchance many month sweeter music soul sound floating summer hill dale rode till night came reposing lifted soul heaven blessing household arose pursued journey summer day went autumn emerald leaf changed hue gold scarlet ripe fruit hung ruby yellow cluster strong bough rock crimson vine trailing slowly tint autumn faded soon white frost meadow like day shorter crisp chill around evening fire household absent parent began gather summer beauty abounded missed much talked grew strangely restless long delay tell said eldest sickness accident might delay sends word sign make rest road passable replied brother whose faith dimmed already snow blocked mile around know greater obstacle beyond trust father added depth feeling touched day rested faith would come midst ala trust human heart limited vision pierce passing cloud stretch forth hand darkness together evening outer inner darkness shadow distrust never return said group sorrowing tone father come lisped youngest others looked babe thought feeling weary watching said another went window looking many day loved form father forgotten moaned bowed head wept comfort knowing naught crust remained morrow food would provide coming day light fuel wanting winter half gone even faith eldest long since departed yielded distrust father come still whispered little strong others doubted young reason like said among perhaps speak simple said household word looked though sunlight flashed dwelling something akin hope began spring heart died away chilling blast came moaning around three day passed storm raged threatened bury home beneath heavy snow food share last crumb given child soften cry hunger stand longer said eldest wrapping garment around preparing forth find labor bread brother sister ever lived murmured deserted forgotten father sound murmuring within mingled sighing wind without stepped door instant fierce blast drove back instant cowardice sorrow said reply entreaty storm strong effort faced chilling sleet blinded could find path highway went bravely till hunger chill overcame could longer even feel grew strangely dizzy would fallen ground pair strong arm instant held fast much overcome know thus enfolded soon voice rose wind storm knew father arm feared hour greatest need father come hour brave effort spared long exposure wintry blast carriage laden food fuel timely gift already road would soon deposit bounty door whose faith deserted happy household gathered around father night need lamp reveal face darkness could hide tear coursed cheek little awoke shouting father come knew would called faith hour alloy others kind father explained cause delay trusted faith little child told strange people among needed counsel instruction great need ministration sorrowed much doubt shadowed moment trust father thus distrust heavenly parent need rise like mountain seems dark ala forgotten deepest night light appears strong uplift taught holy thing faith darkness upon earth long time period bloodshed crime disaster earth seemed draped habiliment mourning cause aching heart many home gone unto battle son father husband would return fell service kind mother wife could take farewell look still white face must home though life lost none help poor earth said glad band belonging starry sphere long comfort people mission given guide soul death valley bear friend must leave post duty said love sweet silvery tone frail descend darkness present envelops earth beside need another different element prepare better thing shall said looked hope said leader queen starry band high festival night temple dedicated mus quite sacrifice number leave happy sphere dark earth hope came forward mention name holding hand garland twining grace wilt thou earth fair hope asked queen star fair brow glittered brighter said unhesitatingly mission carry garland every habitation light within others course discern come clasp strong girdle waist shall attach cord earth filled arm garland flung neck till laden ready said leader descend passing cloud gone sing anthem keep heart bright linked fastened cord golden girdle gently sky little cottage roadside mary deane sister reading fair orphan whose father brother lost battle light look star awhile said youngest dear early light comfort traveler road many time neighbor light sent glow enabled reach home much sooner better humor like sister hark thought heard footstep listened hearing nothing finished reading retired rest opening door next morning eye gladdened lovely garland hung knob flower rich perfume color unlike anything seen earth much marveled wondered whence came still greater find fade hope found great many dwelling light pas many lamp signal door former left garland gladden inmate waste nothing read interest said lonely woman night hope came earth gloomily together darkness adding cheerlessness bright glow within would gladdened without hope went laden garland took seat shadow would gladly left enough spare seeing sign habitation walked woman talked dreary world went rest surprise morning find neighbor rejoicing mysterious gift none said poor never half much given wealthy cried went back gloom despair find wreath doorstep morning inquired bright hopeful woman noon brought part dinner indeed answered find handsomest wreath ever ever could made lovely stopped suddenly seeing face shall part mine never said eldest quickly reason omitted know cause must keep wreath unbroken noble come refuse accept instinctively felt belong week passed away child village strange dream concerning gift substance beautiful angel come star brought flower every house light seen light night remember remarked eldest woman neighbor told strange dream must something answered little woman dwelling flower lighted suppose ought always hopeful said woman together lamp house typify light hope never cease burning hope taken golden cord abode starry group sang heavenly anthem refresh love twined fresh garland brow held another festival temple honor safe return earth ever since brightest light group night cloud rising earth obscure others star brow hope shining heavenly lustre seen whose gaze upward many year visitor sent realm enter home earth inhabitant much true happiness real sorrow midst hand hand walked together till entered pleasant valley nestled among green hill base stood cottage covered rose honeysuckle looked inviting external belie interior family consisted wife somewhat advanced year aged infirm brother lovely young girl grandchild couple pleasant murmur voice floated pleasant perfume rose climbing door sense smell chimed spell summer morning sister knew harmony within enter said sorrow unwilling abode lingered outside within clean orderly could desire young girl diligently sewing open volume occasionally read page thus mingling instruction labor entered accosted bright morning lovely answered girl arose placed chair visitor much grateful every much remarked grandmother busy family said labor fond answered woman looking fondly girl many blessing grateful sometimes think tell mother broke husband must never lose sight blessing fact though often disguise moment sorrow looked open door seldom recognized longed enter friend said woman turned motioned sister enter came softly beside woman spoke family desire sister know cause happiness blessing disguise said though could think thus laid grave later next child born blind none asked died broken heart sorrow sighed deeply would rather heard wished hear whole asked woman died girl hard hand cloud brought body husband home mangled torn feature could recognized poor mary wife pine laid beside blessing mother found gone prepare much left word true beautiful face wife glowed recognition moment sister threw back veil radiant face never seen cottage beaming countenance sister dark look upon stay exclaimed girl sister rose depart gladly would work perform village beside leave sister dark leave alone said youngest girl never seen sorrow heard mission earth sorrow standing door heard remark hoped would never come carry young heart life uncertain knew would next would envelop cloud sighed plucked rose pressed nostril though last sweetness would ever inhale pity said grandmother warm blue eye filling tear looked bowed form doorway good woman need recognize mission sent master administer woe contain heavenly truth convey glad tidings shall never leave sister save labor divided thus spoke tear filled eye kind woman went plucked rose gave sorrow weeping half know said addressing form thought could angel everywhere time failed forgive said sorrow weary need rest come cottage sorrow gave heavenly smile sister departed next abode ever asked child grandparent sister gone often going round world age answered grandparent look young grandpa naught trouble belongs bright side carry good tidings pleasure sorrow sister administers woe good leave sister said grandparent providence ordered sorrow hand hand pleasure pain force nature alike coupled night sunshine shadow pleasure pain forever like stay said helen youngest grandparent shall ever glad must never treat sister coldly indifference though right among though external unlovely within equally radiant sister charm brilliancy softer diviner radiance shine soul grandpa make almost love said marion eldest helen looked thoughtful earnest seed truth dropped future time would bear fruit large elegant house sister stopped next beautiful lawn hedged hawthorne sloped street surface bed brilliant flower blooming contrasting finely bright green carpet ascended granite step portico rang bell servant answered summons impatiently awaited message would mistress mansion said shown elegant large could scarcely farther furnished dazzling style gave none feeling repose desirable home seemed long time lady mansion appeared looking much though visitor intruder lovely said beautiful youth health answered curtly day said sympathetically weary life nothing go well world much sorrow enjoy anything added brief silence young enter grief come purpose bringing comfort hope accept answered modestly stranger could scarcely show find assured young maiden pleasure suppose posse tardy seeing life succession care burden silent moment said health home plenty dispense needy must comfort least world much need home large elegant admit believe care servant burden great human flesh thought much better cottage enough meet want life mansion full hireling said hopefully blessing ever outnumber woe look shall surprised many visit earth continued much real happiness find help possible remove obstacle hinder advancement sister sorrow continued turning like mission though mean pleasant sister unveiled face flush pleasure stole sallow face woman gazed upon brightness countenance look quickly faded sight sorrow worn weary feature sister must tarry said rose leave scarcely live added trouble thus decreed answered need discipline bring departed leaving sister elegant cheerless mansion mistress luxurious home fair daughter bringing lead listless indolent selfish life life would result good others sorrow grew sadder girl walking amid beauty surrounded careless culture felt also must time might soon removed luxury hour fair girl step grew heavier till last weak walk even rise come woman exclaimed weeping mother bent daughter sent house rang servant send sorrow away delivering message maid felt somewhat relieved servant went search sorrow could find either house garden lawn among dark pine often walked whither fled servant house summoned search sorrow found reported mistress failure find matter replied long longer among labor keep house quiet sure dark lock door enter unperceived need bolted barred work done cause return sent house wealth carry blight death mission seeking young girl faded slowly died mother mourned without hope soon laid beside daughter home passed hand felt none must live alone sorrow must borne without murmur joy appreciated well angel sorrow bear treasure away uplift heart give vision higher range sorrow road night moon even star shining face sister would passed joined hand walked together till morning broke came sight cottage dawned dear said sorrow approached familiar spot often carry give gladness master hour gladly said looking tenderly weary face sister roadside rest awhile lifted heart heaven asking might carry humble home prayer answered feel said sorrow wiped tear away wait till return merrily entered humble home gladness beaming eye bore resemblance sister welcomed much greeting know sorrow would among talked long time listened patiently story woe sickness death adversity part many year passing away said confidently health prosperity shall among shall know full value whispered voice corner room eye penetrated invalid helpless blind tear fell eye instant sparkled greater brilliancy said shall pas away closed eye light shut seven long year slowly opened palsied limb relaxed life leaped vein arose household gathered round supposed lost absence many year returned moment laden gold treasure greater glittering lesson life suffering wrought mind departed amid tumult rejoicing joined sister happy family miss time great sudden happiness subsided realization sought vain needed essence life walking earth carrying pleasure happiness thousand work father worn sister aged owned lived large house height three story child daughter fond listened generally word counsel instruction amount persuasion could induce ascend highest story dwelling father spent many hour watching varied landscape overlooked alloyed pleasure evening evening alone looking lovely cloud tint river winding like vein silver meadow detracted know view lower window offered naught tree thickly hedge come child called morning evening year year result seemed avail never know beauty around dwelling said looking wealth beauty seemed cloud never brilliant tree meadow strangely gilded ray evening longed ever share child pleasure experienced resolved upon plan hoped attain wish workman shut light story thick board door escape give harmless drink deepen slumber work done seemingly harsh mean alone induce child ascend night slumbered work done awoke sound hammer nail completed father ascended await ray morning listen voice child soon broke suppliant tone upon ear father father dark come child still cried come behold glory gave answer heard weeping groped lead longer resisted step though slow willing one upward father cared slow long ascending many time wished back urged gentle word strong sustaining till last landing reached light streaming open window made word longer needful bound sprang open casement exclaiming father dear father fell weeping breast wish granted effort child could behold beauty long thrilled soul thus heavenly father call upward see leave common view grander scene listen voice however beseeching make dark drear ascend higher longer view extended rarified pure experienced gardener watching tree many day whose branch foliage seem repay care said little sadly root striking deep enough must firmer hold earth wind fierce blast sunset faithful gardener away tool closed garden gate went cottage soon mass dark cloud began gather horizon sorry harsh mean said waving hand direction wind cloud tree need firmly rooted naught violent wind moaning sound went shaking every bush tree foundation dear sighed tree cruel gardener send wind surely uproot tree readied forth branch like arm help implored gardener come save fearful blast flower foot bowed head wind wafted fragrance struggling tree moan suffering said tree catching breath every word need tempest rain want said vine running many year dead pride garden heard gardener afternoon continued vine must rooted firmly sent wind purpose wonder thing garden need shaking spoke somewhat indignantly poor willow pond always weeping interrupted vine keep beautiful sheet water full brim always sparkling constant dropping tear ought render gratitude besides graceful tree lovely heard gardener praise elm maple even pine word oak care particular family always looked well shall like brother soon shall pas away unlike brother cling vine body mistaken gardener said day plant vine like trunk foliage better might present finer appearance mingling vine soft leaf ornamental garden save trouble life spared desire decked borrowed leaf oak always kept good appearance dear vine blast take breath away fear shall live show gardener vine voice trembled tell gardener come morning dead dreadful tempest killed instead helped wind made roaring sound could hear reply tried become reconciled death thought much brief space time resolved life spared would forth protecting branch bed flower foot protect blazing kind friendly deeper deeper struck root earth till shot vein death raised head cloud drifting south calm star shone like friendly eye heaven would surely died tempest passed said gardener week later showing garden friend gardener stood beneath branch pleasure leaf coming forth texture one already finer softer needed firmer hold earth poor thing could draw moisture enough ground storm shook root embedded deeper known philosophy storm need lost gardener beneath branch seemed rise fall bestowing blessing head spot became favorite amid labor many year lived good gardener pride maiden gathered leaf wove garland lover child sported bough blessed happy making others learned lesson storm often heard young oak growing sunshine balmy breeze part growth needful true development amid starry realm lived philosopher deep wisdom daughter named truth error sent earth perform mission people though knew labor must united could explain dissimilar roam many year earth together well knew though truth would accepted people must suffer greatly life experience taught must often unhonored unloved error sister would receive smile gift welcome majority sacrifice part daughter truth great grief obliged send error placed word cheer counsel care hyperion father moon dawn accompanied golden chariot cloud left charge zephyr wafted fleecy couch earth bleak chilly walking dreary road dotted dwelling casual observer might seen striking dissimilarity dress manner truth clad garment plainest material finish error decked costly robe jewel step former firm slow latter rapid nervous bleak wind penetrated form turned sharp angle road revealed eminence costly elegant building shall certainly night escape biting blast said error sister although house large grand answered truth look though inmate hospitable prefer trying luck yonder cottage slope hill perhaps walk naught answered error bade hasty sister entered enclosure must beautiful summer smooth lawn fine tree bed flower gave bell sharp ring summoned elegant full gaily dressed people error neither timid bashful accepted offered courtesy family would right seated explained object call dwelling largely grandeur elegant home amid star tenderly feelingly upon relationship god goddess numerous feast attended conclusion hostess felt family receiving rather bestowing favor evening spent amid game pastime till hour retiring conducted warm elegantly furnished room comfortable made long moment sister share despite difference nature error loved sister soft couch however soon lulled sleep slumbered deeply dreamed truth walking night cold hungry suddenly lovely form came cloud none astrea seen often starry home talking truth fold soft delicate garment cold form sister time saying reproving tone time left sister alone cold cared selfishness great god succor innocent punish offender closed rising truth arm sky error gave loud shriek astrea dropped strong current took goddess sight well earth might forever darkness truth dropped though hard error awoke dream seemed real elegant surroundings resolved search truth morning came blinding storm snow sleet remonstrance family added innate love ease left truth uncared whose duty seek day glided week error remained much wonder poorer neighbor around highbred encourage keep companion daughter could glance error superficial possessed depth thought feeling wonder grew deep surprise gentry mile around giving party honor everywhere flattered adored became possible vain full conceit feast god starry realm would vied preceding festivity outshine splendor error left sister truth walked slowly thoughtfully towards cottage went slowly path wound summer bed rose door rapped gently opened fair beautiful woman bade walk tone matched kindness feature next moment truth felt gentle hand removing hood cloak felt welcome table covered snowy cloth stood centre room abundant supply plain substantial food attractive hungry traveler costly viand chair placed bright fire welcome entered soul drew tear deep eye seldom thus entertained often manner high made highway pleasanter habitation often walked alone night unsheltered error sister reposed bed sharp contrast life great mystery unrevealed cost many hour deep earnest thought rare gave welcome gratitude took form silence instant kind woman thought lacking grateful look upturned bade table partake bounty doubt gratitude departed truth slept soundly night arose much refreshed slumber storm would detained continuing journey warm truthful appeal woman felt need soul truth possessed exchange thought induced remain many others slipped away happily revealed rest well action needful right every worker truth became great favorite among poorer class neighborhood always whenever would receive listen word long people thought rank culture began notice court acquaintance highbred hearing popularity concluded give party invite error never spoken relationship invitation sent knowing could longer conceal past availed first opportunity communicate hostess great surprise highbred household learn quiet stranger cottage sister error sister peculiar wholly unlike remarked error hostess fear find quite undemonstrative although parent wish imagine relief nature like mine mingle congenial taste even brief period must answered highbred sympathizingly error congratulated become installed good grace wealthy person said need plodding world longer truth like feel mission perform earth course remain locality long thanks god think favor always shall obliged roam longer truth never appreciate wealth value fine surroundings cast rougher mold sends garnet begs favor wear night party said bearer case jewel laid table bounded room error could reply indeed surprise great word child remained wonder truth see thought error glanced sparkling gem nothing could striking contrast truth sister costume manner stood apart company moment exchange word error decked costly robe satin lavender contrast gem truth arrayed white wreath brow golden girdle around waist father gave parting wore gem save arrow pearl astrea gave parted gate cloud kept goddess named season opened permit passage celestials earth receive return simple dress manner truth admiration majority paid tribute error kept admirer listening wonderful adventure amid region star truth spoke seldom uttered food thought instead constellation merely dazzling word careful observer might seen elder member lingered attracted simple charm near truth also youngest portion company youth middle could divine sphere pure earnest thought sought would gladly continued acquaintance invited dwelling morrow would forth journey feeling implanted mind love something beyond external mere materialism earthly mission traverse hill plain throughout land seed righteousness would spring blossom pearl long weary foot traversed land sown rough place finer seed early dawn truth went forth cottage kind woman sheltered enjoyed much together mutual relation trust trust hope clasped hope stronger soul exchange rose heaven truth error tossed feverish dream upon thought angry sending fierce ray upon head censure madden trying waken urge sister sense relief came opened eye found dream pleasure brief sharp pain shot temple brow feverish pulse throbbed wildly pure cool refreshing grass cried better highway friendly blossom couch stifled atmosphere breathing longed truth cool brow touch gentle hand come back come truth cried hard whole household heard came bedside delirious cried voice family physician summoned pronounced case fearful life fast ebbing shall send said highbred unused scene distress longed guest dwelling sister truth said truth truth said physician possible gazed another revelation truth sister said younger member added think better prettier error better better continued physician looking child inwardly saying mouth babe suckling come word wisdom hill call truth said answer searching look highbred manner inquiry plainly manifested desire unusual state thing return continued doctor soon find spot remove error look relief came face lady departed truth heard sound horse rumbling wheel approached intent thought separation sister strange mission earth scarce sensed whither going kind courteously lifted carriage stood fevered unconscious form error moment later clearness thought command carry cottage said bound cool bandage sister brow bore though mercy dark cloud shut ray fierce glare obscured transit home splendor humble cottage many week truth nursed sister kind hostess kind neighbor aided word deed long night watch error arose illness somewhat wiser firmly fixed determination follow truth share fate journey thus reader shall ever find together dwell earth perchance region trust wisely related love reverence admire purity truth seek also courteously endure error opposing force though seem time work discomfort hinder progress give strength rower stream made stronger counter current eddy contend large grew near house branch child played every summer seemed take great delight voice shook green bough head though would join sport laughter ala foolish idea head grew discontented felt sphere usefulness limited moment dark cloud gathered fearful tempest arose strong current wind soon giant tree swinging violence torn earth like broken column ground shall something root earth heap black loam sure soon shake however world soar well thing terrible quaking noise tree tried rise recumbent position ray fast parching root causing sharp pain shoot branch dear said tree hope shall able foot soon else people laughing lying helpless golden went behind hill ray could gild branch tree missed benediction parting ray feeling akin homesickness came longing dew evening came rooted earth wild wind sang dirge night ceased till darted hill pleasant tree hear child regret word grief came around morning play usual pleasant shade hoped away dawn thus escaped sound voice wait till gone must said tree softly papa wood know said youngest group bright going piece bough make cane said another dear sighed little autumn leaf make pretty wreath mamma poor tree mistaken mission relation earth people lament position providence placed vain tree tried rise branch withered leaf dropped away rustled lawn found sorrow made despised earth drew nourishment true parent source life respect former protection beauty owner wood made handsome ornament seat garden keep memory alive mind child repined year assigned folly tree alluded restlessness allayed spot stood beautiful rustic basket made wood bright flower blossomed throughout summer informed listlessly standing gazing dense forest beyond fertile beautiful valley reached dark close wood reached would repay effort started morning entering forest together forced tangled wood held branch pas walked along social converse soon began grow restless impatient slow progress made must faster exclaimed began quicken pace regardless overhanging bough thorny branch pierced flesh every step rushed forward leaving companion intent become reaching valley possible speed longer noticed brier pierced underbrush entangled made foot sore day reached valley tired worn bleeding head foot laborer working garden looked pity several command leader carried house could longer walk cared nursed companion outrun took better wiser course finding wood dense bethought making pathway journeyed would take much longer comfort good others might follow could told faithfully labored cutting away branch impeded progress clearing underbrush ground valley beyond wounded wondered came concluded must perished forest day passed week sign companion could rise would search ala helpless lame sore every joint close beautiful autumn laborer bound sheaf going home traveler seen coming firm step forest shoulder carried whose polished edge glittered strangely ray setting laborer wondered torn weary like thee must better path came thee said group stranger made path answer glanced around room though would find started interest felt companionship however brief easily laid aside laborer told companion inability work day pain said went next traveler slowly journeyed made path would come able labor companion disabled many day longer soon many others came forest valley first remark show traveler made comfortable path seeing blessed word deed nobleness making easy path said many never come lovely valley way journeying life like first pilgrim thought self speedily reaching vale journey better wiser productive greater good making path come blessed labor peaceful valley lived number people whose leader dwelt hill guided tiller soil weaving life many lesson truth supplied water mountain sent every morning carrier master rule clean fresh supply might mingled time faithful supply used made clean ala human weakness prone fall line duty soon murmur heard among people fresh water day said group standing idly roadside neither said another master expect labor remarked third supplied fresh water life hard enough bear help continued neighbor cheerful full pure sparkling water morning broke voice tone remonstrance idler looked face faithful returning evening walk heard word complaint assure neighbor said mildly force fault urn filled know master command kept clean ready fresh supply faithful command thought among answered partial truth saying always urn clean unfilled water would made unclean useless mixed master love alike supply fresh water life used prepared suppose ever clean carrier would pas remarked group said faithful always rest assured part done master however kind merciful benefit state blessed master sends fresh water urn impure fault benefactor must prepare receive faithful went sank fleecy cloud evening fell earth still lesson must penetrated heart listener morrow urn white clean full sparkling water look heart life thence gone forth good made ready idly murmuring father life inflow give soul sacred urn longs fill overflowing pure heavenly truth willing receive faithful extend mercy aged built house upon high elevation land labored many year lifetime conveying tree plant flower decorate ground came descent upon youth roadside looking greatly dispirited hast thou parent home inquired kind youth shook head looked lonely heart questioner touched said come looked pleased invitation springing foot stood stranger together commenced long toilsome ascent foot youth tender long aged obliged carry back summit burden door pleasant home expecting expression wonder pleasure face sensuous look satisfaction comfort laborer gathered visible dull feature rest said kind shall first lesson weeding bed watering flower dawn arose dressed went forth view rose hill youth slumbered till nearly noon arose manifested life interest till evening meal partook largely bounty seemed full animation took courage smile satisfaction settled feature thought found helper wife next called sunrise many effort succeeded arousing sleep aged couple went garden morning meal awaited appearance youth sent gather fern plant beside rock surely time gathering remarked woman husband went edge wood whither sent found lying upon ground looking dreamingly sky good couple succeed arousing sense duty dead labor life contribute scene around fear made mistake said wife good shadow evening came alone never appreciate toil year must return climb mount appreciation accumulation year gaining order life must climb summit mistake lie taking arm raising mount said husband like many people kind wise like many foolish parent injure offspring giving result year toil morrow youth sent back year aged toiling steep hill seeking make home beautiful eminence overlooked field wood mile around know worth comfort said companion toil sacrifice make sweet spot answered morning labor come evening rest grew side side casual observer would said beautiful height greater foliage brighter think remarked vine superior external appearance gardener sake would make better appearance heard remark morning almost despaired ever bearing fruit looking even presentable sure soil draw nourishment hand prune away deformity think defend satisfaction gardener listen evening spare moment tell labor occupies much time gardener would delighted explanation wonder certainly attained height forth foliage account past year vine spent fluttering leaf wind listening praise difference vine exclaimed gentleman walked past garden every remark said vine raising head high forth another shoot fullness conceit vainglory grew impatient hour arrive sister would leisure talk sunset gardener laid tool away closed garden gate evening sister announced ready explain strange life past year call anything visible sign growth motion pertly remarked vine sister took notice remark though wounded leaf fluttered fell ground sister sensitive could seen tremble every limb though voice sweet clear commenced saying busy past year direction could perceive knowing subject period drought think wisely occupying time sending fibre earth every direction already brook side wall heard gardener never struck direction expect bring forth fruit next year could forth leaf least made pleasing appearance inquired sister took strength strike earth hope time ashamed appearance vain vine grew quite thoughtful ahead sister good external appearance sure sign merit question kept busy many day reasoned mind lesson taught would like made preparation season drought pride stood feared lose lovely foliage month sped another year came earth parched rain fell plant leaf lovely vine lost foliage sister full leaf promise fruit declare said gardener seem strange expected vine lost life bright vigorous looked much fruit fast fading reason later season vine worked long sight pleasure seeing table owner supplied delicious fruit branch also hearing gardener remark visitor sick feeble neighborhood strengthened refreshed cooling grape much exertion brought forth vine bore fruit pruned severely pride stood longer progress began send forth fibre earth sister done hard first obliged listen praise considered inferior length attained glorious height enables rejoice earth made richer matter mean parent loved wisely earthly parent longed crowned light wisdom felt must send afar gather immortal truth heart moved deeper grief thought must send forth alone unprovided mean procure daily sustenance thus could learn lesson necessary soul development sleeping upon soft white hand folded peacefully upon breast hard task father knew break sleep slumber profound send cold selfish world shaking tremor weakness soul said arise must send forth upon long dangerous journey gather truth light soul must without mean procure bread shelter grief heart must know journey must taken danger privation prayer blessing child scene astonished gazed father face parent turned wept wiping away tear said wonder earnest curious gaze long lived bosom love lesson must learned every human soul tell lesson must experienced else gladly would spare toil pain parting looked thought peril exposure subjected without mean procure least comfort night shade fell earth glimmer daylight tinged father parted action endure wait return journey many day cheerless hill barren plain many tear brushed young cheek hand father warmly pressed parting close dark stormy weary faint food damp grass overcome weariness espied elegant edifice little beyond travel said hopefully surely mansion shall find protection food famished body took much longer reach expected last torn bleeding foot came broad avenue dwelling magnificence exclaimed glad father sent hither wondrous thing hope beaming every feature approached door knocked opened whose voice face exhibited sign welcome cast impatient glance upon traveler shrank abashed trembling rude gaze find food shelter asked voice tremulous emotion door shut upon cold piercing storm felt chill inhospitable soul froze warm current hope moment leaped wildly vein went forth elegant mansion upon ground wept father send child away meet harsh cruel treatment world home abounds plenty said weary child shade night gathering fast cold damp ground many night offered poor protection weary form contented send hither questioning mind alone upon ground light glimmering tree light hope break moment despair would journey thither said despondingly rest shelter denied hope find elsewhere hope whispered weary heart arose passed small humble dwelling dwelt loving heart turned involuntarily little path wound fragrant shrub flower door checked though could bear cold denial easier feel blast storm hear unwelcome tone fall ear despite feeble faith walked door gave timid door flew open wide though hinge oiled love stood form radiant smile welcome bade enter traveler already warm bright smile word welcome felt glow pervade whole feeling unfelt never absence father house known want food shelter woman give unto morning came eastern hill another gratitude shining hill doubt woman turned warm full thanks went daily task word came life meaning mind done least brother done unto year rolled away murmur deed like distant rumbling retreating cloud great storm youth visited strange city nation learned conflict human soul battle great life threatens bear hour amid strife selfishness heart found many loyal truth daily learned rich lesson would effaced gold pomp earth light wisdom began dawn experience father needed provided mean journey world different would life known value human love kindness father long return thee love thee never could loved thee weary roadside thinking father love sound traveler approach heard road turned eye direction father servant beautiful white horse father bid come welcome word fell upon ear take steed said journey quickly home wait impatiently return fast hill dale rode passed sight leaving jeweled mark absence rode father door wept tear upon breast together stood father upon mount experience overlooking scene life heavenly father wake slumber infancy helplessness sends forth alone world learn life great lesson learned well sends pale messenger death take home blessed reunion crown wisdom head sweet dwell forever dark period shadow upon earth beautiful angel sent abide teach doubting weary father love care found tedious task many year toil felt needed helper sister often said people could greater effort seem supply needed element soul half succeed meeting want half good welcome answered spoke said faith dark night trying rouse people higher state seemed little success faith weary wept tear flowed sister realm peace strange sympathy knew father saying must earth faith need parent awhile deep thought hope waited impatiently answer came spoken firm clear voice done faith great wrong fear sending alone much light comfort needed much hope blessing attend overjoyed receiving father permission join sister since faith gone beautiful home seemed lonely faith night eye uplifted heaven morning behold beam hope descending earth faith long ascending hill meet sister meeting full eye lifted heavenward missed hope must searched long time journey said faith sister keep eye ever uplifted answered hope brightness heaven also father angel chooses send answered faith ever eye raised heavenward descended valley hand hand reached people passing daily toil light seemed labor faith comfort hope walked along dreary wayside hope bright word cheered downhearted wonder parent ever permitted come earth alone remarked venerable woman faith latter imparting truth almost beyond grasp mortal father well learn needed hope make work perfect must first feel inadequacy helper fully appreciated think came right time said faith reverently doubt replied woman often heard blessing come needful moment surely hope look though could endure rough clime still rougher way people better although know life would without sent came prepare hope needed first sister brighter element expect good work earth blessed pair exclaimed woman left home others dark drear faith summoned night home widow whose child passing away clear eye faith could soul depart take heavenly form great comfort bereaved hour like near wonder lived without household word word could hear without semblance vainglory soul deeply impressed magnitude mission allow elated depressed remark might made faith eye followed dying realm light wiped mother tear away disclosed sight soul fled hope stood assure parting forever tarried night mother friend came bury dead form learned grave goal sister toiled together many year wove beautiful truth mind people till dark condition earth seemed passing rapidly away people grew trustful le gloomy teaching faith cheering word hope failed exercise right feeling time towards sister wayside evening hard toil eye lifted star seemed look lovingly without word possessed unspoken wish longed sister moment thinking earnestly faith glanced star scarcely le brilliant eye hope tear fell face even hope sighed almost wished back starry home father sorry hope came earth asked faith tenderly thinking know thought must said faith sister hope ventured thus charity come faith finished sentence wish said hope rejoiced find desire said faith needed make work complete brilliant eye hope spoke word felt long time answered hope another element softer sweeter finer needful people suppose father would spare charity asked hope sister know would convinced earth people would receive faith speak confidence know good father hope needed come said faith trustingly thinking experience lonely night charity delicate said hope little doubtfully quite could endure cold clime could without presence sustain answered faith help could live wherever called work father lift voice soul said hope offered silent prayer sister night abode peace comfort father walked voice child earth pleading sister reached without struggle called remaining child side look upon last time many year must said sacrifice perfect perfect sacrifice must fullness good come forth faith alone could perfect work hope added brightness needed charity must added drew fair frail form side told mantle enveloped slight figure spotless garment placing care zephyr gentle west wind always faithful charge bade depart prayer blessing zephyr tender charge seemed long journey charity laid soft moss pleasant woodland sister gathering flower might lain time faith eye discovered coming cloud full joyous meeting three went rest sought shelter among people uplifted eye faith clear face hope tender forgiving word charity united force great people first refused admit last comer dwelling faith lovely eye hope bright way good enough said need bring pale fragile earth spoken either council rebuke listener melody richness tone awakening soul finer power ever bade welcome strength gentleness always went called never obtruded others often sister invited feast people without took time quality known still silent step noiseless delicate foot left print trod grew favor people used watch footprint whose guest found trace learned entertain long time lovely quality possessed walk earth loved entertained many shadow know earth angel faith hope charity bless wise parent sent child distant country learn lesson life experience alone teach departure called providing liberally mean told return would listen several experience time telling mean given well neither hoard spend unwisely bring back original form full equivalent therefore either spiritual material thing year scarcely passed father looking western youngest came running breathlessly path soon returned asked father caused look disappointment pas face youth word shaded regret replied thought would glad would rejoice quickly replied father brief time absent performed many deed goodness compared might done tarrying longer gold surely used brief period brought money back gave father without costing penny grief country return equivalent deed kindness given rest awhile day return land people sent among come back till every farthing wisely spent youth murmured within dared reply day later departed ground work neglected sake speedy return second year another returned looking dispirited thou hast soon returned said father work done brief period youth hung head answered slowly weary father much sorrow among people longed come home rest peace surely right child much sorrow reason remained dost thou remember line often quoted quitting busy career rest fitting self sphere remember well father youth replied never felt meaning sense duty return suppose cheerfully otherwise gladly willingly said born higher self provide mean remarked father feeling thrilled thought going give life human need parted morrow though separation nearest approach life united truth ever essence divine union many year passed hair father grew whiter ear longed hear voice son would call word feeling long busy throng receiving giving life evening thought taking somewhat pensive turn messenger came door letter eldest returned home since departure word dear father come home love well side land full need human word deed blessing shall remain lifetime come longer serve people return tear fell good face blessed greatly bestowing worthy penned warm glowing word encouragement child sent messenger gold alleviate want needy tell thousand blessing await work done said messenger latter mounted horse ride away long father grew helpless son returned laden rich experience abundantly able care learned great valuable lesson must learn truly live must give receive would reap lose life find husbandman laborer valley clearing stone brush might become culture resided near fine hill raised rare fruit flower every variety view extensive grand beyond description kind owner desire laborer ascend refreshed whatever offer beside catching inspiration lovely extensive landscape day much offer time repast would sumptuous tempting went sure receiving season delicious fruit ripened different period succession day nothing food hill none luscious fruit invigorate refresh slow ripening kind husbandman would gather mellow spread laborer going climb hill crumb said dissatisfied toiler roadside looking unhappy added second third quite chorus dissatisfied remainder went usual tempting repast fruit cake refreshing wine table decked rare fragrant flower glad good spread bounty well knew murmur gone heart day past asked ascended hill look disappointment came face tell nice feast waiting said group gazed table answered husbandman gentle commanding tone people faith know spread power even like infinite limited condition pleasure ever unrefreshed much better could content whatever come though sometimes meager cheer come good courage faith knowing feast give thanks said band played lively air shall refuse ascend mount whereon dwells father shall day feast awaits linger valley doubt lose bounty hand time ready faithful believing mount take without murmur morsel fruit thanksgiving feeling satisfaction pride builder looked upon large costly edifice much exertion completed long workman toiled place stone upon another many hour thought designer spent perfecting proportion deep sense relief came last stone deposited summit structure followed pain walked evening enjoy beautiful symmetry building heard word contention strife among various stone composed look superior finish said piece beneath plain piece granite polished elegantly carved admiration eye people pas look fast replied foundation stone little le pride would become could high matter little strike part building placed remain firm peaceful word wise stone pleased owner much resolved remove little vanity awake long time night thinking plan effect purpose element however spared effort part next terrible swept land hard stone defaced ornament lofty boast loudly superiority dear dear moaned vain piece granite wish taken foundation stone instead beauty destroyed awful storm much rather middle building force storm spent head stone foundation could help smiling though really pitied vain thing teach wisdom said learn none life lowly bear part lofty position dangerous humble fearful crash instant foundation stone thought building coming something struck recognized part stone seen workman cutting smoothing many week prior elevation could boast superior finish position following remaining shattered portion removed left roadside could another prepared take place thought stone little weak raised said workman placed aside roadside grew humble glad even delighted owner building took finish wall built around pasture land said workman deposited sunny corner place occupy glad find useful rest obliged listen remark endure comment misfortune suppose shall never know life firmly sleep little stone sadly need rest seemed long period repose stone awoke pulsation finer emotion thrilling within sound child voice heard sweet pleasant word admiration uttered building also soft hand caressing beautiful moss grown surface delighted child gathering useful beautiful stone silent happiness hoped child would come bringing others wonder beautiful moss grew said least thought heard older stone beside replied perfectly quiet become covered lovely moss firmer grass lawn vain stone grew perfectly contented never longed former position storm came knew close earth fearful height pulled beautiful lichen grew upon surface ornamental former carved elegant adornings side side morning gardener preparing ground plant many variety think said talkative going dismal ground shall allow buried sight lovely morning answered quiet seed side brief period shall shall beautiful care beauty others look want freedom intend wind friend shall waft lovely hill something world think would wiser remain gardener care must know good remarked gentle seed prosy think feeling tell need exclaimed seed motioned wind bear away thought breath leaving borne wished back garden found warm felt reassured nestled amid soft grass whose waving motion soon lulled sleep seed gardener laid ground choice rare kind felt wind blown away took remaining laid carefully ground many hope would spring bear rich blossom would yield seed night cold wind came little seed warm feel absent sister shook night cold seemed long time seed ground something like life came deeper pulsation strong desire shoot upward light feeling deepened every hour rate shall soon going said joyfully felt quiet fell asleep awoke gardener bending joyful face happen came warm sunlight seed exclaimed wind bear away could ground reason first sight light little seed said sorrowfully wish kind rare plant told gardener sister purposely went away wondered power motion became plant asked wind carry answered plant knew gone search bring back asked wind take yonder said plant hoping much would find seed plant beside might pleasure becoming plant beautiful gardener went towards hill seed begged south wind bear away took wing wafted many mile home gardener searched long time obliged return without took extra care plant grew pride garden seed roaming world truant soon lost influence wind finally refused carry seed much needful work perform cold northern blast last could persuade bear dropped rock last perished exposure rain cold death company people passed bearing hand rare fragrant blossom felt strange attraction gave place deep thrill sorrow heard describe lovely plant grew beautiful garden description knew home folly left accepted condition growth might lovely plant giving receiving pleasure said people passed ala breath grew quick short profit last word telling life folly might lived wholly vain nothing could discern save tuft moss upon cold hard rock must behind rock south side growing family wild daisy going migrate warmer part country plant seed winter came condition providence ever around seemingly deserted desolate word might profit could convey benefit wayward seed unwilling accept natural condition growth thus seed though dying mission unfulfilled live wholly vain wasted life saved others similar fate parent sent child forth fertile land gather fruit flower whatever beautiful adorn home wandered till nightfall gathering treasure joyous laughter filled made music listening laborer field shadow evening came approached open field barren verdure ground covered golden stone glittered strangely setting gathered many could treasure group began prepare home lingered eager gather shining pebble must return said chorus disliked leave without darkness fast coming must obey parent command return shade evening covered earth voice another died away pleaded vainly heeded golden stone precious eye kindred home friend departed sorrowfully without remained added stone stone till obliged last exhaustion damp ground like warm pleasant home missed cheerful voice brother parent fond goodnight evening prayer slept dream wild feverish atmosphere love soothe weary brain next noon parent sent messenger bidding return love golden stone paramount wish kindred unnumbered comfort happy home reply messenger return enough pointing large collection already higher head nightfall hunger seized felt weary search food demand nature asserted claim dragged field near grew berry fruit abundance spirit rose craving hunger satisfied precious pile stone day glided week still upon berry gathered golden pebble father ceased send messenger knowing nothing long experience would teach child value life many blessing gold alone power bless father suffered much knowing realizing must learn truth life severe lesson wisdom told could otherwise chill autumn came longer could fruit berry ripen laborer field near eating meal brought home would give meat bread said offer golden store exchange morsel smiled offer saying would refresh rest labor surely gold would would help replied spare morsel need supply strengthen work turned away deep thought losing life joy comfort living thus alone amass quantity gold looked shining treasure ambition arose increased power forgot time hunger toil thought came fruit gone forest gather nut better food chilly autumn day surely provided least till winter left labor repaired wood feasted gathered enough many day household mourned much absent brother missed daily joy every hour watched waited hoped return almost rejoiced bleak wind autumn swept foliage tree could look farther road brother shall soon able travel world said youth every pile gold grew higher ala human calculation awoke morning find huge mountain gold solid mass action light heat atmosphere fused together exertion could break even smallest atom must return even golden pebble gathered sight found golden dream travel worse freshness buoyancy youth departed limb ala stiff sore mountain gold atom could others must return father house void truth incident relate brother kind angel home blessing store awaiting return evening shadow crept earth walked path brother long ceased watch coming great surprise among although brother happy sunny long told sadly result long toil related good result golden pebble brought home father purchased land yielding rich return aside health pleasure derived culture labor performed hand health wealth happiness combined murmured sadly felt keenly youth opportunity departed many seek gold alone forgetting joy purchase forgetting possession alone value rightly acquired used alleviates mediates gathered amassed mountain shining valueless unsatisfying possessor fool thus waste time strength said night father bade welcome wisdom purchased experience matter great price answered parent lost youth strength responded loss compensated thought greater ability labor mentally said parent consolingly year youth wasted bodily strength became worker word cheer hope others hence wholly lived vain learned love angel truth well came side gave sweet counsel many lesson mankind purchased light cost afford give large party traveler distant country obliged pas dense forest reach leader went forward seeing darkness dense wood convinced impossibility people going without light guide beside mossy stone entrance trying devise mean light darkness seemed almost hopeless involved sacrifice life knew well nature tree expect give traveler could stepped deep wood looked grand proportion rich foliage enviable position entreat give existence must dear pas known unknown life vainly tried think another accomplish purpose none presented glowing word appealed nobler self telling great need traveler obliged pas first appealed fine birch bordered forest indeed answered tree think would give life light people woodland prefer live year longer next addressed walnut shook leaf branch made similar reply preferring live form amid sister tree going knew whither none continued willing sacrifice life need others looked around forest vain silent return people large stately spoke clear ringing tone saying give body traveler light grand body many year growing maturing present stately fair proportion exclaimed several tree rash foolish remarked small growing side beside taking away pride grand forest said delicate birch always admired throwing life away broke tall rather sickly pine ready asked leader stood admiring beautiful proportion sorrowing within must close next traveler came edge forest tarried leader fire root flame went upward flashed darkness evening star visible flame rose upward touched even bark another tree wound closely around though knew work light tree needed pas traveler safety touched heart thus witness life noble must sacrificed offered accord silent prayer life might extended higher form passed tarried forest flame died away pursued journey year passed away pile ash left departed sprang lovely flower charmed eye tree forest atoned great measure loss noble companion brief period workman seen forest felling tree exclaimed pine refused give life traveler gained anything life might well gone fire answered beach perished fire might coming another form life seems pile dust ash lovely blossom coming forth unsightly heap dust heard workman tree cleared away house erected land remarked trembling leaf quivered beyond wont terror thought surely moaned pine happy life said small would continued bemoaning destiny attention instant arrested form entering forest went spot stood brave gazed admiringly lovely tinted blossom heard sacrifice tree come gaze upon resurrection gather festival said stooped pluck fragrant blossom fire destroyed consciousness soul still alive enjoying form existence sent forth thrill gratitude took form sweetest odor filling around fragrance instead losing life extended even good leader people said word departed bearing flower instinct life away many went forest workman gather seed rare blossom plant garden much human life soul learn went forth thus amid throng people rejoiced given life good others knowing greater bliss store held hand aged crowned fair brow carried bedside suffering laid upon casket dead planted door cottage reared conservatory rich everywhere admired welcomed life indeed worth pain heat flame loss statelier loftier form never sighed forest home often longed know fate brother tree child bearing hand blossom wandered ground arose tall tree eye flower looked vain kindred none standing felled wood converted dwelling useful le beautiful form existence possessed learned time apparent destruction life reconstructed could experience came within scope life ever satisfied rejoiced passed refining element losing thereby grosser form filled fragrance gratitude whenever wished journey wind friend conveyed seed portion earth designated blossom bright odor sweet sense smell leaf plant healing three force connected human life constant action highest consciousness increased usefulness large elegant mansion dwelt wealthy three lovely daughter house built eminence upon bank river wound like thread silver valley many mile afar mansion large number cottage dwelt carpenter shipbuilder gardener every trade good honest people though tinged love earthly gain many often crushed many soul finer better emotion greedy love material thing owner mansion sorrowed failing devised plan give wished opportunity better nature forget time self gain accordingly told daughter deck richest apparel ornament rare choice throw whole large unsightly cloak disguise might perfect conceal splendor beneath gave purse filled gold bestow upon welcome give shelter evening went forth narrow street bade knock door cottage waited outside would admit give food shelter traveler need obeyed first approached cottage making known presence gentle door opened woman large coarse feature whose eye welcome rude stare scarcely waited word traveler spoken gruffly answered neither room food beggar closed door abruptly applied next upon opposite side saying opened door feed give shelter three weary traveler food waste home scarcely large enough replied quickly shut door upon answer came turned parent saying shall least found wholly selfish truly need bounty well afford importune denied guided child street look quite compared others said eldest daughter looked room beheld form flitting within shall certainly admitted said others parent kept council invisible rapped door opened bright rather girl gazed wonderingly group give shelter night little food asked eldest indeed spent money brother jack come home room spare friend weary rest food pleaded three eye wandered table company beggar said girl closed door upon shall father said parent last answered leading door dwelt poor lonely widow paused threshold voice heard within sweet heard word kneeling form deep petition saying give father daily bread forgive trespass lead temptation thine kingdom power glory forever forever amen arose instant gentle knock heard without delay opened smiled upon stranger asked could give shelter food enter welcome said opened wide door passed left parent knew would soon follow outside grieve food offer thee said woman come fireside evening chilly must need rest placed chair beside fire saying glad come last fuel dark chill within dwelling eldest bowed woman gracefully threw aside cloak others followed example great surprise widow thought sens departed instant voice word naught wonder beaming eye sudden great surprise another gentle instant seemed help find hastening open eldest said father come thank admitting angel disguise though angel form hope prove administration need laid upon table purse gold ever give daily bread forget entertain stranger said father widow took leave refused receive stranger next morning great commotion neighborhood widow seen exchange gold bread shop greater still surprise told flocked around dwelling given three stranger asked bread shelter night three stranger exclaimed must called dwelling fool show dead sympathy human need spoke voice among turned found owner mansion shame confusion came face long benefactor word counsel deed kindness eye fell ground gentle tone chided lack kindness want faith father love giveth another need shall receive none continued lesson taught experience example poor widow last year life refused stranger turned door shelter apparently needed cold hungry said group demand upon sympathy knew contrary answered could feel truth word lesson lost year grew le mercenary kindly heart never closed door stranger asking'"
            ]
          },
          "metadata": {
            "tags": []
          },
          "execution_count": 90
        }
      ]
    },
    {
      "cell_type": "code",
      "metadata": {
        "id": "_zC0-5tQIWSZ",
        "colab_type": "code",
        "colab": {
          "base_uri": "https://localhost:8080/",
          "height": 33
        },
        "outputId": "a1c93503-ec08-4eb4-c1df-56f11cd00d43"
      },
      "source": [
        "df['file'][0]"
      ],
      "execution_count": null,
      "outputs": [
        {
          "output_type": "execute_result",
          "data": {
            "text/plain": [
              "'pg15895.txt'"
            ]
          },
          "metadata": {
            "tags": []
          },
          "execution_count": 91
        }
      ]
    },
    {
      "cell_type": "code",
      "metadata": {
        "id": "jCt4l_ISIWSp",
        "colab_type": "code",
        "colab": {}
      },
      "source": [
        " # creating instance of one-hot-encoder\n",
        " enc = OneHotEncoder(handle_unknown='ignore')\n",
        " # passing bridge-types-cat column (label encoded values of bridge_types)\n",
        " enc_df = pd.DataFrame(enc.fit_transform(df[['Author_Name']]).toarray())\n",
        " # merge with main df bridge_df on key values\n",
        " del df['Author_Name']\n",
        " col_name=[]\n",
        " for i in range(enc_df.columns.start,enc_df.columns.stop,enc_df.columns.step):\n",
        "    x=\"AutName\"+(str(i))\n",
        "    col_name.append(x)\n",
        " enc_df.columns=col_name\n",
        " df= df.join(enc_df)"
      ],
      "execution_count": null,
      "outputs": []
    },
    {
      "cell_type": "code",
      "metadata": {
        "id": "2wx-CEVAIWS4",
        "colab_type": "code",
        "colab": {}
      },
      "source": [
        " enc1 = OneHotEncoder(handle_unknown='ignore')\n",
        " enc_df1 = pd.DataFrame(enc1.fit_transform(df[['Book_Name']]).toarray())\n",
        " # merge with main df bridge_df on key values\n",
        " del df['Book_Name']\n",
        " col_name=[]\n",
        " for i in range(enc_df1.columns.start,enc_df1.columns.stop,enc_df1.columns.step):\n",
        "    x=\"Book_Name\"+(str(i))\n",
        "    col_name.append(x)\n",
        " enc_df1.columns=col_name\n",
        " df= df.join(enc_df1)"
      ],
      "execution_count": null,
      "outputs": []
    },
    {
      "cell_type": "code",
      "metadata": {
        "id": "tWWWXwIBIWTI",
        "colab_type": "code",
        "colab": {}
      },
      "source": [
        "alldata_train, alldata_test = train_test_split(df, test_size=0.3, random_state=42, stratify = np.array(df['guten_genre']))"
      ],
      "execution_count": null,
      "outputs": []
    },
    {
      "cell_type": "code",
      "metadata": {
        "id": "nom5TfY5IWTX",
        "colab_type": "code",
        "colab": {
          "base_uri": "https://localhost:8080/",
          "height": 50
        },
        "outputId": "29aef85f-b11a-45cd-900b-ea959471b80a"
      },
      "source": [
        "labelencoder = LabelEncoder()\n",
        "# Assigning numerical values and storing in another column\n",
        "y_train = labelencoder.fit_transform(alldata_train['guten_genre'])\n",
        "y_test = labelencoder.fit_transform(alldata_test['guten_genre'])\n",
        "del alldata_train['guten_genre']\n",
        "del alldata_test['guten_genre']\n",
        "\n",
        "\n",
        "print(y_train.shape)\n",
        "print(y_test.shape)"
      ],
      "execution_count": null,
      "outputs": [
        {
          "output_type": "stream",
          "text": [
            "(695,)\n",
            "(298,)\n"
          ],
          "name": "stdout"
        }
      ]
    },
    {
      "cell_type": "code",
      "metadata": {
        "id": "47xlMMXpNvtx",
        "colab_type": "code",
        "colab": {
          "base_uri": "https://localhost:8080/",
          "height": 163
        },
        "outputId": "da02b423-0cba-43d7-fcc4-5cb30f273bd4"
      },
      "source": [
        "print(y_test)"
      ],
      "execution_count": null,
      "outputs": [
        {
          "output_type": "stream",
          "text": [
            "[5 5 5 5 2 5 5 5 5 2 5 2 7 5 5 5 5 5 5 5 5 5 5 5 7 5 5 5 5 5 2 5 2 5 5 2 5\n",
            " 5 2 5 5 7 0 2 6 5 5 5 5 5 5 5 5 5 5 5 5 5 5 5 5 5 5 5 4 5 5 5 5 5 5 8 5 5\n",
            " 5 5 5 5 5 5 7 5 5 2 5 5 3 5 5 5 5 5 5 7 7 5 2 5 5 5 2 5 5 5 5 5 5 5 5 5 5\n",
            " 5 2 5 2 5 5 5 5 5 3 5 5 5 5 5 5 5 5 5 5 5 5 7 5 2 5 5 5 2 5 5 5 2 5 7 5 5\n",
            " 5 5 2 5 5 5 5 5 5 5 5 5 5 5 5 5 2 5 5 5 5 5 5 5 5 5 5 5 5 5 5 5 5 5 5 5 5\n",
            " 5 5 1 5 5 5 5 5 6 5 5 5 5 5 5 5 5 5 5 5 5 5 5 5 2 5 2 2 5 5 5 5 5 2 6 8 5\n",
            " 5 5 5 5 5 7 5 5 5 5 5 5 2 5 5 6 5 2 5 5 5 5 5 5 5 5 5 5 2 5 5 5 5 5 5 5 5\n",
            " 5 8 2 5 5 5 5 6 5 2 5 5 2 8 5 5 5 7 2 5 5 5 2 2 5 5 5 5 5 8 5 4 5 2 7 5 2\n",
            " 5 5]\n"
          ],
          "name": "stdout"
        }
      ]
    },
    {
      "cell_type": "code",
      "metadata": {
        "id": "xE2AG7twIWTi",
        "colab_type": "code",
        "colab": {}
      },
      "source": [
        "vectorizer = TfidfVectorizer(sublinear_tf=True)\n",
        "X_train = vectorizer.fit_transform(alldata_train['clean_data']).toarray()\n",
        "X_test = vectorizer.transform(alldata_test['clean_data']).toarray()\n",
        "feature_names = vectorizer.get_feature_names()"
      ],
      "execution_count": null,
      "outputs": []
    },
    {
      "cell_type": "code",
      "metadata": {
        "id": "UpDZn_AmIWTt",
        "colab_type": "code",
        "colab": {
          "base_uri": "https://localhost:8080/",
          "height": 66
        },
        "outputId": "69dd967f-c8b8-48c9-8eb5-8f0ff371b1c0"
      },
      "source": [
        "print(X_train.shape)\n",
        "print(X_test.shape)\n",
        "print(len(feature_names))"
      ],
      "execution_count": null,
      "outputs": [
        {
          "output_type": "stream",
          "text": [
            "(695, 116855)\n",
            "(298, 116855)\n",
            "116855\n"
          ],
          "name": "stdout"
        }
      ]
    },
    {
      "cell_type": "code",
      "metadata": {
        "id": "8GDTB9DgIWT4",
        "colab_type": "code",
        "colab": {
          "base_uri": "https://localhost:8080/",
          "height": 212
        },
        "outputId": "12ff0234-6352-4da9-a753-e86f0e4af96a"
      },
      "source": [
        "model = tf.keras.Sequential([\n",
        "    tf.keras.layers.Dense(10, activation='relu',input_shape=(X_train.shape[1],)),\n",
        "    tf.keras.layers.Dense(9, activation='softmax')\n",
        "])\n",
        "model.compile(loss='sparse_categorical_crossentropy',optimizer='adam',metrics=['accuracy'])\n",
        "model.summary()"
      ],
      "execution_count": null,
      "outputs": [
        {
          "output_type": "stream",
          "text": [
            "Model: \"sequential_6\"\n",
            "_________________________________________________________________\n",
            "Layer (type)                 Output Shape              Param #   \n",
            "=================================================================\n",
            "dense_12 (Dense)             (None, 10)                1168560   \n",
            "_________________________________________________________________\n",
            "dense_13 (Dense)             (None, 9)                 99        \n",
            "=================================================================\n",
            "Total params: 1,168,659\n",
            "Trainable params: 1,168,659\n",
            "Non-trainable params: 0\n",
            "_________________________________________________________________\n"
          ],
          "name": "stdout"
        }
      ]
    },
    {
      "cell_type": "code",
      "metadata": {
        "id": "bdDzU90DIWUE",
        "colab_type": "code",
        "colab": {
          "base_uri": "https://localhost:8080/",
          "height": 1000
        },
        "outputId": "d8636c39-c719-47dd-a8ca-c11f989096e0"
      },
      "source": [
        "epochs = 100\n",
        "batch_size = 64\n",
        "\n",
        "history = model.fit(X_train, y_train, epochs=epochs, batch_size=batch_size,validation_split=0.1,callbacks=[EarlyStopping(monitor='val_loss', patience=3, min_delta=0.0001)])"
      ],
      "execution_count": null,
      "outputs": [
        {
          "output_type": "stream",
          "text": [
            "Epoch 1/100\n",
            "10/10 [==============================] - 1s 70ms/step - loss: 1.8689 - accuracy: 0.7360 - val_loss: 1.4303 - val_accuracy: 0.8429\n",
            "Epoch 2/100\n",
            "10/10 [==============================] - 1s 61ms/step - loss: 1.3094 - accuracy: 0.7920 - val_loss: 1.0640 - val_accuracy: 0.8429\n",
            "Epoch 3/100\n",
            "10/10 [==============================] - 1s 62ms/step - loss: 1.0893 - accuracy: 0.7920 - val_loss: 0.9457 - val_accuracy: 0.8429\n",
            "Epoch 4/100\n",
            "10/10 [==============================] - 1s 62ms/step - loss: 0.9892 - accuracy: 0.7920 - val_loss: 0.8891 - val_accuracy: 0.8429\n",
            "Epoch 5/100\n",
            "10/10 [==============================] - 1s 63ms/step - loss: 0.8963 - accuracy: 0.7920 - val_loss: 0.8393 - val_accuracy: 0.8429\n",
            "Epoch 6/100\n",
            "10/10 [==============================] - 1s 61ms/step - loss: 0.8061 - accuracy: 0.7920 - val_loss: 0.7992 - val_accuracy: 0.8429\n",
            "Epoch 7/100\n",
            "10/10 [==============================] - 1s 62ms/step - loss: 0.7275 - accuracy: 0.7920 - val_loss: 0.7634 - val_accuracy: 0.8429\n",
            "Epoch 8/100\n",
            "10/10 [==============================] - 1s 62ms/step - loss: 0.6579 - accuracy: 0.7920 - val_loss: 0.7257 - val_accuracy: 0.8429\n",
            "Epoch 9/100\n",
            "10/10 [==============================] - 1s 62ms/step - loss: 0.6003 - accuracy: 0.7936 - val_loss: 0.6990 - val_accuracy: 0.8429\n",
            "Epoch 10/100\n",
            "10/10 [==============================] - 1s 64ms/step - loss: 0.5506 - accuracy: 0.8032 - val_loss: 0.6781 - val_accuracy: 0.8429\n",
            "Epoch 11/100\n",
            "10/10 [==============================] - 1s 63ms/step - loss: 0.5047 - accuracy: 0.8304 - val_loss: 0.6612 - val_accuracy: 0.8429\n",
            "Epoch 12/100\n",
            "10/10 [==============================] - 1s 63ms/step - loss: 0.4667 - accuracy: 0.8592 - val_loss: 0.6465 - val_accuracy: 0.8429\n",
            "Epoch 13/100\n",
            "10/10 [==============================] - 1s 63ms/step - loss: 0.4330 - accuracy: 0.8816 - val_loss: 0.6335 - val_accuracy: 0.8714\n",
            "Epoch 14/100\n",
            "10/10 [==============================] - 1s 62ms/step - loss: 0.4020 - accuracy: 0.8976 - val_loss: 0.6227 - val_accuracy: 0.8714\n",
            "Epoch 15/100\n",
            "10/10 [==============================] - 1s 61ms/step - loss: 0.3761 - accuracy: 0.9072 - val_loss: 0.6126 - val_accuracy: 0.8714\n",
            "Epoch 16/100\n",
            "10/10 [==============================] - 1s 61ms/step - loss: 0.3513 - accuracy: 0.9216 - val_loss: 0.6039 - val_accuracy: 0.8714\n",
            "Epoch 17/100\n",
            "10/10 [==============================] - 1s 63ms/step - loss: 0.3292 - accuracy: 0.9280 - val_loss: 0.5968 - val_accuracy: 0.8714\n",
            "Epoch 18/100\n",
            "10/10 [==============================] - 1s 61ms/step - loss: 0.3097 - accuracy: 0.9296 - val_loss: 0.5902 - val_accuracy: 0.8714\n",
            "Epoch 19/100\n",
            "10/10 [==============================] - 1s 62ms/step - loss: 0.2921 - accuracy: 0.9328 - val_loss: 0.5828 - val_accuracy: 0.8714\n",
            "Epoch 20/100\n",
            "10/10 [==============================] - 1s 62ms/step - loss: 0.2756 - accuracy: 0.9376 - val_loss: 0.5781 - val_accuracy: 0.8714\n",
            "Epoch 21/100\n",
            "10/10 [==============================] - 1s 63ms/step - loss: 0.2611 - accuracy: 0.9376 - val_loss: 0.5722 - val_accuracy: 0.8714\n",
            "Epoch 22/100\n",
            "10/10 [==============================] - 1s 63ms/step - loss: 0.2468 - accuracy: 0.9376 - val_loss: 0.5690 - val_accuracy: 0.8714\n",
            "Epoch 23/100\n",
            "10/10 [==============================] - 1s 62ms/step - loss: 0.2339 - accuracy: 0.9392 - val_loss: 0.5662 - val_accuracy: 0.8714\n",
            "Epoch 24/100\n",
            "10/10 [==============================] - 1s 62ms/step - loss: 0.2230 - accuracy: 0.9392 - val_loss: 0.5622 - val_accuracy: 0.8714\n",
            "Epoch 25/100\n",
            "10/10 [==============================] - 1s 62ms/step - loss: 0.2115 - accuracy: 0.9392 - val_loss: 0.5603 - val_accuracy: 0.8714\n",
            "Epoch 26/100\n",
            "10/10 [==============================] - 1s 61ms/step - loss: 0.2013 - accuracy: 0.9392 - val_loss: 0.5570 - val_accuracy: 0.8714\n",
            "Epoch 27/100\n",
            "10/10 [==============================] - 1s 63ms/step - loss: 0.1920 - accuracy: 0.9392 - val_loss: 0.5543 - val_accuracy: 0.8714\n",
            "Epoch 28/100\n",
            "10/10 [==============================] - 1s 63ms/step - loss: 0.1830 - accuracy: 0.9392 - val_loss: 0.5526 - val_accuracy: 0.8714\n",
            "Epoch 29/100\n",
            "10/10 [==============================] - 1s 63ms/step - loss: 0.1751 - accuracy: 0.9392 - val_loss: 0.5517 - val_accuracy: 0.8714\n",
            "Epoch 30/100\n",
            "10/10 [==============================] - 1s 63ms/step - loss: 0.1674 - accuracy: 0.9408 - val_loss: 0.5493 - val_accuracy: 0.8714\n",
            "Epoch 31/100\n",
            "10/10 [==============================] - 1s 62ms/step - loss: 0.1599 - accuracy: 0.9424 - val_loss: 0.5490 - val_accuracy: 0.8714\n",
            "Epoch 32/100\n",
            "10/10 [==============================] - 1s 62ms/step - loss: 0.1533 - accuracy: 0.9424 - val_loss: 0.5488 - val_accuracy: 0.8714\n",
            "Epoch 33/100\n",
            "10/10 [==============================] - 1s 62ms/step - loss: 0.1467 - accuracy: 0.9440 - val_loss: 0.5465 - val_accuracy: 0.8857\n",
            "Epoch 34/100\n",
            "10/10 [==============================] - 1s 62ms/step - loss: 0.1408 - accuracy: 0.9456 - val_loss: 0.5483 - val_accuracy: 0.8714\n",
            "Epoch 35/100\n",
            "10/10 [==============================] - 1s 63ms/step - loss: 0.1353 - accuracy: 0.9472 - val_loss: 0.5479 - val_accuracy: 0.8857\n",
            "Epoch 36/100\n",
            "10/10 [==============================] - 1s 61ms/step - loss: 0.1300 - accuracy: 0.9472 - val_loss: 0.5473 - val_accuracy: 0.8857\n"
          ],
          "name": "stdout"
        }
      ]
    },
    {
      "cell_type": "code",
      "metadata": {
        "id": "Fw24CvidIWUS",
        "colab_type": "code",
        "colab": {
          "base_uri": "https://localhost:8080/",
          "height": 66
        },
        "outputId": "2371ab77-570c-4a99-a098-c9791417711b"
      },
      "source": [
        "predictions=model.predict_classes(X_test)\n",
        "train_pred=model.predict_classes(X_train)\n",
        "\n",
        "print(\"train accuracy: {} \".format(accuracy_score(y_train,train_pred,normalize=True, sample_weight=None)))\n",
        "print(\"test accuracy: {} \".format(accuracy_score(y_test,predictions,normalize=True, sample_weight=None))) \n",
        "print('Testing F1 score: {}'.format(f1_score(y_test, predictions, average='weighted')))"
      ],
      "execution_count": null,
      "outputs": [
        {
          "output_type": "stream",
          "text": [
            "train accuracy: 0.9424460431654677 \n",
            "test accuracy: 0.8389261744966443 \n",
            "Testing F1 score: 0.7870194852878393\n"
          ],
          "name": "stdout"
        }
      ]
    },
    {
      "cell_type": "code",
      "metadata": {
        "id": "5wPHWXUFIWUd",
        "colab_type": "code",
        "colab": {
          "base_uri": "https://localhost:8080/",
          "height": 82
        },
        "outputId": "ff73af56-ee0c-48f4-b3ee-53bb0aff151f"
      },
      "source": [
        "accr = model.evaluate(X_test,y_test)\n",
        "print('Test set\\n  Loss: {:0.3f}\\n  Accuracy: {:0.3f}'.format(accr[0],accr[1]))"
      ],
      "execution_count": null,
      "outputs": [
        {
          "output_type": "stream",
          "text": [
            "10/10 [==============================] - 0s 7ms/step - loss: 0.5854 - accuracy: 0.8389\n",
            "Test set\n",
            "  Loss: 0.585\n",
            "  Accuracy: 0.839\n"
          ],
          "name": "stdout"
        }
      ]
    },
    {
      "cell_type": "code",
      "metadata": {
        "id": "k7uRLuxhIWUq",
        "colab_type": "code",
        "colab": {
          "base_uri": "https://localhost:8080/",
          "height": 541
        },
        "outputId": "a758d2d5-d2d8-45c5-e0fd-b751ef5d7bb0"
      },
      "source": [
        "print(\"Confusion Matrix:     \")\n",
        "print(confusion_matrix(y_test, predictions))\n",
        "        \n",
        "print(\"\\n\\nClassification Report:       \")\n",
        "print(classification_report(y_test, predictions))"
      ],
      "execution_count": null,
      "outputs": [
        {
          "output_type": "stream",
          "text": [
            "Confusion Matrix:     \n",
            "[[  0   0   0   0   0   1   0   0   0]\n",
            " [  0   0   0   0   0   1   0   0   0]\n",
            " [  0   0  11   0   0  22   0   0   0]\n",
            " [  0   0   0   0   0   2   0   0   0]\n",
            " [  0   0   0   0   0   2   0   0   0]\n",
            " [  0   0   0   0   0 238   0   0   0]\n",
            " [  0   0   0   0   0   5   0   0   0]\n",
            " [  0   0   0   0   0  10   0   1   0]\n",
            " [  0   0   0   0   0   5   0   0   0]]\n",
            "\n",
            "\n",
            "Classification Report:       \n",
            "              precision    recall  f1-score   support\n",
            "\n",
            "           0       0.00      0.00      0.00         1\n",
            "           1       0.00      0.00      0.00         1\n",
            "           2       1.00      0.33      0.50        33\n",
            "           3       0.00      0.00      0.00         2\n",
            "           4       0.00      0.00      0.00         2\n",
            "           5       0.83      1.00      0.91       238\n",
            "           6       0.00      0.00      0.00         5\n",
            "           7       1.00      0.09      0.17        11\n",
            "           8       0.00      0.00      0.00         5\n",
            "\n",
            "    accuracy                           0.84       298\n",
            "   macro avg       0.31      0.16      0.18       298\n",
            "weighted avg       0.81      0.84      0.79       298\n",
            "\n"
          ],
          "name": "stdout"
        },
        {
          "output_type": "stream",
          "text": [
            "/usr/local/lib/python3.6/dist-packages/sklearn/metrics/_classification.py:1272: UndefinedMetricWarning: Precision and F-score are ill-defined and being set to 0.0 in labels with no predicted samples. Use `zero_division` parameter to control this behavior.\n",
            "  _warn_prf(average, modifier, msg_start, len(result))\n"
          ],
          "name": "stderr"
        }
      ]
    },
    {
      "cell_type": "code",
      "metadata": {
        "id": "BFbRCpNKIWU5",
        "colab_type": "code",
        "colab": {
          "base_uri": "https://localhost:8080/",
          "height": 281
        },
        "outputId": "f715edfd-c338-44d9-c382-6aecaa03097c"
      },
      "source": [
        "plt.title('Loss')\n",
        "plt.plot(history.history['loss'], label='train')\n",
        "plt.plot(history.history['val_loss'], label='test')\n",
        "plt.legend()\n",
        "plt.show();"
      ],
      "execution_count": null,
      "outputs": [
        {
          "output_type": "display_data",
          "data": {
            "image/png": "[encoded data removed]",
            "text/plain": [
              "<Figure size 432x288 with 1 Axes>"
            ]
          },
          "metadata": {
            "tags": [],
            "needs_background": "light"
          }
        }
      ]
    },
    {
      "cell_type": "code",
      "metadata": {
        "id": "RIh-KLwpIWVH",
        "colab_type": "code",
        "colab": {
          "base_uri": "https://localhost:8080/",
          "height": 281
        },
        "outputId": "b683f214-8cd5-434e-b723-e286d074f5e2"
      },
      "source": [
        "plt.title('Accuracy')\n",
        "plt.plot(history.history['accuracy'], label='train')\n",
        "plt.plot(history.history['val_accuracy'], label='test')\n",
        "plt.legend()\n",
        "plt.show();"
      ],
      "execution_count": null,
      "outputs": [
        {
          "output_type": "display_data",
          "data": {
            "image/png": "[encoded data removed]",
            "text/plain": [
              "<Figure size 432x288 with 1 Axes>"
            ]
          },
          "metadata": {
            "tags": [],
            "needs_background": "light"
          }
        }
      ]
    }
  ]
}